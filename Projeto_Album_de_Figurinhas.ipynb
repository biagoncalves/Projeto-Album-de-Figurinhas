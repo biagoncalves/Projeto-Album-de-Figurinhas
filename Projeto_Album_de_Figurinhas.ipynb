{
  "nbformat": 4,
  "nbformat_minor": 0,
  "metadata": {
    "colab": {
      "name": "Projeto Album de Figurinhas.ipynb",
      "provenance": [],
      "collapsed_sections": [],
      "authorship_tag": "ABX9TyNB4OM091w42+XZWePeLsJZ",
      "include_colab_link": true
    },
    "kernelspec": {
      "name": "python3",
      "display_name": "Python 3"
    },
    "language_info": {
      "name": "python"
    }
  },
  "cells": [
    {
      "cell_type": "markdown",
      "metadata": {
        "id": "view-in-github",
        "colab_type": "text"
      },
      "source": [
        "<a href=\"https://colab.research.google.com/github/biagoncalves/Projeto-Album-de-Figurinhas/blob/main/Projeto_Album_de_Figurinhas.ipynb\" target=\"_parent\"><img src=\"https://colab.research.google.com/assets/colab-badge.svg\" alt=\"Open In Colab\"/></a>"
      ]
    },
    {
      "cell_type": "markdown",
      "source": [
        "#**PROJETO: Álbum One Piece 2021**\n",
        "\n"
      ],
      "metadata": {
        "id": "fvIKbWU9qWCp"
      }
    },
    {
      "cell_type": "markdown",
      "source": [
        "Quantos de nós já não tiveram a incrível experiência de comprar e ~~tentar~~ completar álbuns de figurinhas? A empolgante sensação de abrir cada pacote de figurinhas, esperando encontrar os cromos faltantes fez parte da infância de muitos. Mas quanto será que tudo isso custa? Bom, podemos responder a essas e outras perguntas com o auxílio do Python e algumas suposições básicas.\n",
        "\n",
        "Este projeto foi inicialmente desenvolvido pelo Prof. Dr. Ricardo Rocha da FLAI – Inteligência Artificial e Data Science.\n",
        "\n",
        "Vamos começar então? :)"
      ],
      "metadata": {
        "id": "CwboZQnSHgcP"
      }
    },
    {
      "cell_type": "markdown",
      "source": [
        "## **CARACTERÍSTICAS**\n",
        "\n",
        "O álbum tomado como exemplo para esta análise tem as seguintes características:\n",
        "\n",
        "* Total de cromos: **212**\n",
        "* Preço do livro ilustrado capa brochura: **R\\$ 10,00**\n",
        "* Envelope com 4 cromos: **R\\$ 4,00**\n"
      ],
      "metadata": {
        "id": "5wteM0EOHczY"
      }
    },
    {
      "cell_type": "markdown",
      "source": [
        "## **SUPOSIÇÕES**\n",
        "\n",
        "Para iniciar os estudos, é ncessário assumir algumas suposições que nos ajudarão a desenvolver um método de análise eficiente. São as seguintes:\n",
        "\n",
        "1. Todas as figurinhas têm igual probabilidade de serem sorteadas;\n",
        "2. Um pacotinho é comprado por vez até que se complete o álbum.\n",
        "\n"
      ],
      "metadata": {
        "id": "Kf8KFrXdiMp5"
      }
    },
    {
      "cell_type": "markdown",
      "source": [
        "## **ALGORITMO**\n",
        "\n",
        "Antes de escrever qualquer linha de código, é importante ter em mente o que será feito. Para isso, estabelecemos um algoritmo, que é, basicamente, uma sequência de passos que tomamos para chegar a um objetivo específico, uma solução para o problema. Podemos definir como nosso algoritmo a seguinte metodologia:\n",
        "\n",
        "1. Comprar um pacotinho de figurinhas (4 figurinhas cada, que podem ser repetidas);\n",
        "2. Colar no álbum e verificar se o álbum está completo;\n",
        "3. Caso esteja incompleto, comprar mais um pacotinho. Caso contrário, terminar.\n",
        "\n"
      ],
      "metadata": {
        "id": "Nc98xrebiymf"
      }
    },
    {
      "cell_type": "markdown",
      "source": [
        "##**PERGUNTAS**\n",
        "\n",
        "O objetivo deste projeto será, então, responder às seguintes perguntas:\n",
        "\n",
        "1. Qual o valor médio investido para completar o álbum nessas condições?\n",
        "2. Quantos pacotes são necessários comprar, em média, para completar o álbum?\n",
        "3. Qual é a distribuição empírica do valor investido para completar o álbum?\n",
        "4. Qual a probabilidade de se gastar menos que R$ 1.500,00 para completar o álbum?\n",
        "5. Qual a probabilidade de se gastar mais do que a média para completar o álbum?\n",
        "6. Qual é um intervalo de confiança de 95% para o gasto ao se completar o álbum?\n",
        "7. Qual o valor médio gasto caso se esteja completando o álbum com mais um amigo?\n",
        "8. Qual o valor médio gasto caso se esteja completando o álbum com mais dois amigos?\n",
        "\n"
      ],
      "metadata": {
        "id": "oQMfOiIEjqb3"
      }
    },
    {
      "cell_type": "code",
      "source": [
        "# suposições\n",
        "\n",
        "n_album = 7 #212\n",
        "preco_pacote = 4\n",
        "cromos_por_pacote = 4\n",
        "preco_album = 10"
      ],
      "metadata": {
        "id": "DLFfcZSQmMH5"
      },
      "execution_count": null,
      "outputs": []
    },
    {
      "cell_type": "code",
      "source": [
        "import numpy as np\n"
      ],
      "metadata": {
        "id": "flziTyM5q2jy"
      },
      "execution_count": null,
      "outputs": []
    },
    {
      "cell_type": "code",
      "source": [
        "#como vamos representar um álbum? com a função do numpy np.zeros que cria um vetor com uma quantidade n de zeros\n",
        "\n",
        "album = np.zeros(n_album) #album cru, sem figurinhas\n",
        "album"
      ],
      "metadata": {
        "colab": {
          "base_uri": "https://localhost:8080/"
        },
        "id": "ljShpJtErEy3",
        "outputId": "da9b8469-32b3-416f-ad64-875e917ba436"
      },
      "execution_count": null,
      "outputs": [
        {
          "output_type": "execute_result",
          "data": {
            "text/plain": [
              "array([0., 0., 0., 0., 0., 0., 0.])"
            ]
          },
          "metadata": {},
          "execution_count": 6
        }
      ]
    },
    {
      "cell_type": "code",
      "source": [
        "#comprar um pacote\n",
        "\n",
        "#np.arange(0, n_album)\n",
        "\n",
        "pacotinho = np.random.choice(np.arange(0, n_album) , size = 4) #pode vir repetido\n",
        "pacotinho #lembrando que são as posições - de 0 a 6"
      ],
      "metadata": {
        "colab": {
          "base_uri": "https://localhost:8080/"
        },
        "id": "5EhsGrcsrqGL",
        "outputId": "bc5b636c-4c23-4411-8fc9-43d6427f0b8c"
      },
      "execution_count": null,
      "outputs": [
        {
          "output_type": "execute_result",
          "data": {
            "text/plain": [
              "array([2, 3, 5, 5])"
            ]
          },
          "metadata": {},
          "execution_count": 23
        }
      ]
    },
    {
      "cell_type": "code",
      "source": [
        "#colar figurinha no álbum\n",
        "\n",
        "# fazemos isso  album[pacotinho[0]] = album[pacotinho[0]] + 1  ou album[pacotinho[0]] += 1\n",
        "\n",
        "album[pacotinho[0]] += 1 #vai adicionando, contando + 1 - lembrando que esse operador é pra somar 1 ao próprio objeto\n",
        "album[pacotinho[1]] += 1\n",
        "album[pacotinho[2]] += 1\n",
        "album[pacotinho[3]] += 1\n",
        "\n",
        "album"
      ],
      "metadata": {
        "colab": {
          "base_uri": "https://localhost:8080/"
        },
        "id": "P4jkYBtvyXy5",
        "outputId": "57e4d675-7772-44eb-ef79-2b2e91f5cd6e"
      },
      "execution_count": null,
      "outputs": [
        {
          "output_type": "execute_result",
          "data": {
            "text/plain": [
              "array([4., 2., 1., 8., 1., 4., 4.])"
            ]
          },
          "metadata": {},
          "execution_count": 24
        }
      ]
    },
    {
      "cell_type": "code",
      "source": [
        "#tenho todas as figurinhas?\n",
        "\n",
        "album >= 1\n",
        "\n",
        "np.all(album >= 1) #true quando está completo\n",
        "\n",
        "not np.all(album >= 1) #falso quando está completo"
      ],
      "metadata": {
        "colab": {
          "base_uri": "https://localhost:8080/"
        },
        "id": "_P-_yLk0aeYa",
        "outputId": "06245d95-68c8-42d6-9ff9-5d530f070d21"
      },
      "execution_count": null,
      "outputs": [
        {
          "output_type": "execute_result",
          "data": {
            "text/plain": [
              "False"
            ]
          },
          "metadata": {},
          "execution_count": 27
        }
      ]
    },
    {
      "cell_type": "code",
      "source": [
        "# colocando tudo isso em um programinha\n",
        "\n",
        "album = np.zeros(n_album)\n",
        "pacotes = 0\n",
        "\n",
        "while True:\n",
        "  pacotinho = np.random.choice(np.arange(0, n_album) , size = 4)\n",
        "  pacotes += 1 \n",
        "\n",
        "  for i in [0, 1, 2, 3]: #testar depois com for i in range(4) - vai de 0 a 3 como se fosse um np.arange\n",
        "    album[pacotinho[i]] += 1\n",
        "    \n",
        "  if np.all(album >= 1):\n",
        "    break  \n",
        "\n",
        "album    \n",
        "pacotes\n",
        "print(album, pacotes)\n",
        "print(pacotes*preco_pacote + preco_album)"
      ],
      "metadata": {
        "colab": {
          "base_uri": "https://localhost:8080/"
        },
        "id": "BjMTH61Magxb",
        "outputId": "d4ca0f4f-587d-4b9e-ad18-e84c87c4105f"
      },
      "execution_count": null,
      "outputs": [
        {
          "output_type": "stream",
          "name": "stdout",
          "text": [
            "[4. 4. 2. 1. 2. 1. 2.] 4\n",
            "26\n"
          ]
        }
      ]
    },
    {
      "cell_type": "code",
      "source": [
        "#fazendo agora com a quantidade real de figurinhas - 212\n",
        "\n",
        "n_album = 212\n",
        "preco_pacote = 4\n",
        "cromos_por_pacote = 4\n",
        "preco_album = 10\n",
        "\n",
        "album = np.zeros(n_album)\n",
        "pacotes = 0\n",
        "\n",
        "while True:\n",
        "  pacotinho = np.random.choice(np.arange(0, n_album) , size = 4)\n",
        "  pacotes += 1 \n",
        "\n",
        "  for i in [0, 1, 2, 3]:\n",
        "    album[pacotinho[i]] += 1\n",
        "    \n",
        "  if np.all(album >= 1):\n",
        "    break  \n",
        "\n",
        "print(pacotes*preco_pacote + preco_album) #custo final"
      ],
      "metadata": {
        "colab": {
          "base_uri": "https://localhost:8080/"
        },
        "id": "vMYmWA0OdeCH",
        "outputId": "831bcd5e-4907-4082-e5ca-4b5a2532f99f"
      },
      "execution_count": null,
      "outputs": [
        {
          "output_type": "stream",
          "name": "stdout",
          "text": [
            "1554\n"
          ]
        }
      ]
    },
    {
      "cell_type": "code",
      "source": [
        "#pra sabermos o valor médio, só é preciso replicar o experimento algumas vezes. faremos uma função para essa simulação:\n",
        "\n",
        "def SimulaAlbum(): #sem parâmetro porque é só pra executar esse código\n",
        "\n",
        "    n_album = 212\n",
        "    preco_pacote = 4\n",
        "    cromos_por_pacote = 4\n",
        "    preco_album = 10\n",
        "\n",
        "    album = np.zeros(n_album)\n",
        "    pacotes = 0\n",
        "\n",
        "    while True:\n",
        "      pacotinho = np.random.choice(np.arange(0, n_album) , size = 4)\n",
        "      pacotes += 1 \n",
        "\n",
        "      for i in [0, 1, 2, 3]:\n",
        "        album[pacotinho[i]] += 1\n",
        "        \n",
        "      if np.all(album >= 1):\n",
        "        break  \n",
        "\n",
        "    custo = pacotes*preco_pacote + preco_album\n",
        "\n",
        "    return custo"
      ],
      "metadata": {
        "id": "-gpXAMcfeE0B"
      },
      "execution_count": null,
      "outputs": []
    },
    {
      "cell_type": "code",
      "source": [
        "SimulaAlbum()"
      ],
      "metadata": {
        "colab": {
          "base_uri": "https://localhost:8080/"
        },
        "id": "IsgG2JUegSPq",
        "outputId": "ca360717-d2a4-460d-82aa-a940a80a0fbd"
      },
      "execution_count": null,
      "outputs": [
        {
          "output_type": "execute_result",
          "data": {
            "text/plain": [
              "990"
            ]
          },
          "metadata": {},
          "execution_count": 56
        }
      ]
    },
    {
      "cell_type": "markdown",
      "source": [
        "### 1. Qual o valor médio investido para completar o álbum nessas condições?"
      ],
      "metadata": {
        "id": "FH7VNtZXjMZT"
      }
    },
    {
      "cell_type": "code",
      "source": [
        "S = 1000 #quantidade de simulações que serão feitas\n",
        "\n",
        "resultados = []\n",
        "\n",
        "for i in range(S): #vai de 0 a 999\n",
        "  pessoa = SimulaAlbum()\n",
        "  resultados.append(pessoa)\n",
        "  #if i % 100 == 0: - caso eu queira acompanhar os cálculos\n",
        "   #print (i)\n",
        "\n",
        "#resultados\n",
        "print(np.array(resultados).mean()) #media do custo\n",
        "sim = np.array(resultados)\n"
      ],
      "metadata": {
        "colab": {
          "base_uri": "https://localhost:8080/"
        },
        "id": "f3jXPwWSe_6D",
        "outputId": "1c58e444-730a-466f-fec7-4257ba0c0da2"
      },
      "execution_count": null,
      "outputs": [
        {
          "output_type": "stream",
          "name": "stdout",
          "text": [
            "1270.488\n"
          ]
        }
      ]
    },
    {
      "cell_type": "markdown",
      "source": [
        "### 2. Quantos pacotes são necessários comprar, em média, para completar o álbum?"
      ],
      "metadata": {
        "id": "AiIjwMcIjZjZ"
      }
    },
    {
      "cell_type": "code",
      "source": [
        "#número de pacotinhos\n",
        "\n",
        "(np.array(resultados).mean() - preco_album) / preco_pacote"
      ],
      "metadata": {
        "colab": {
          "base_uri": "https://localhost:8080/"
        },
        "id": "4Vk3bvZCiaC6",
        "outputId": "7897be3d-e17c-4243-ffaf-f134f30b4c06"
      },
      "execution_count": null,
      "outputs": [
        {
          "output_type": "execute_result",
          "data": {
            "text/plain": [
              "315.122"
            ]
          },
          "metadata": {},
          "execution_count": 72
        }
      ]
    },
    {
      "cell_type": "markdown",
      "source": [
        "### 3. Qual é a distribuição empírica do valor investido para completar o álbum?"
      ],
      "metadata": {
        "id": "n7xzJ5BRjkuO"
      }
    },
    {
      "cell_type": "code",
      "source": [
        "#distribuição da probabilidade relacionada aos custos de se completar o álbum\n",
        "\n",
        "import matplotlib.pyplot as plt\n",
        "\n",
        "plt.hist(sim, bins = 20, density = True, color = 'royalblue', edgecolor = 'black') #density é pra colocar proporção ao invés da contagem\n",
        "plt.title('Distribuição Empírica do Valor Gato para Completar o Álbum')\n",
        "plt.show()"
      ],
      "metadata": {
        "colab": {
          "base_uri": "https://localhost:8080/",
          "height": 283
        },
        "id": "jv9TRJ1MjoBn",
        "outputId": "c252d121-e125-42dc-fd01-fc8874c91e0d"
      },
      "execution_count": null,
      "outputs": [
        {
          "output_type": "display_data",
          "data": {
            "image/png": "[encoded data removed]",
            "text/plain": [
              "<Figure size 432x288 with 1 Axes>"
            ]
          },
          "metadata": {
            "needs_background": "light"
          }
        }
      ]
    },
    {
      "cell_type": "markdown",
      "source": [
        "### 4. Qual a probabilidade de se gastar menos que R$ 1.500,00 para completar o álbum?"
      ],
      "metadata": {
        "id": "C7Kfa-OglR0A"
      }
    },
    {
      "cell_type": "code",
      "source": [
        "#basta ver a frequencia com que ocorreu os valores abaixo de 1500\n",
        "\n",
        "# np.array(sim) < 1500 compara dentro do vetor os valores menores que 1500. considerando que true é igual a 1 e false igual a 0, a soma dessa operação será a qtd de valores procurada\n",
        "\n",
        "# (np.array(sim) < 1500).mean() é a proporção de trues - o mesmo que faremos abaixo\n",
        "\n",
        "prob1 = sum(np.array(sim) < 1500) / S\n",
        "\n",
        "print('A probabilidade de se gastar menos de 1500 é {:.2f}%'.format(prob1*100))"
      ],
      "metadata": {
        "colab": {
          "base_uri": "https://localhost:8080/"
        },
        "id": "XYp9PBGUlxjJ",
        "outputId": "92da085a-efb8-4617-db6a-8385b0b74183"
      },
      "execution_count": null,
      "outputs": [
        {
          "output_type": "stream",
          "name": "stdout",
          "text": [
            "A probabilidade de se gastar menos de 1500 é 82.60%\n"
          ]
        }
      ]
    },
    {
      "cell_type": "markdown",
      "source": [
        "### 5. Qual a probabilidade de se gastar mais do que a média para completar o álbum?\n"
      ],
      "metadata": {
        "id": "oiUK8mvDlR_Z"
      }
    },
    {
      "cell_type": "code",
      "source": [
        "prob2 = sum(np.array(sim) > np.array(sim).mean()) / S\n",
        "\n",
        "print('A probabilidade de se gastar mais do que a média é {:.2f}%'.format(prob2*100))"
      ],
      "metadata": {
        "colab": {
          "base_uri": "https://localhost:8080/"
        },
        "id": "q-T0Swk3mTBx",
        "outputId": "09f80f6b-0f4f-458b-cc8a-38ca5b11364f"
      },
      "execution_count": null,
      "outputs": [
        {
          "output_type": "stream",
          "name": "stdout",
          "text": [
            "A probabilidade de se gastar mais do que a média é 41.60%\n"
          ]
        }
      ]
    },
    {
      "cell_type": "markdown",
      "source": [
        "### 6. Qual é um intervalo de confiança de 95% para o gasto ao se completar o álbum?\n"
      ],
      "metadata": {
        "id": "5yVO1pEwlSC9"
      }
    },
    {
      "cell_type": "code",
      "source": [
        "#intervalo de confiança via quantil - imaginar no histograma: 2,5% do canto esquerdo, 2,5% do canto direito e os 95% do meio\n",
        "\n",
        "qts = np.quantile(sim, [0.025, 0.975])\n",
        "qts\n",
        "\n",
        "#posso afirmar, com 95% de confiança, que o gasto a se ter para completar o álbum está entre R$ 874,00 e R$ 1.914,00. Mostra uma grande variabilidade"
      ],
      "metadata": {
        "colab": {
          "base_uri": "https://localhost:8080/"
        },
        "id": "rsKhiBvDokCg",
        "outputId": "7e0d783e-7fcd-4e83-f373-8af65a9b9332"
      },
      "execution_count": null,
      "outputs": [
        {
          "output_type": "execute_result",
          "data": {
            "text/plain": [
              "array([ 874., 1914.])"
            ]
          },
          "metadata": {},
          "execution_count": 84
        }
      ]
    },
    {
      "cell_type": "markdown",
      "source": [
        "### 7. Qual o valor médio gasto caso se esteja completando o álbum com mais um amigo?"
      ],
      "metadata": {
        "id": "8dPibw12lSGJ"
      }
    },
    {
      "cell_type": "code",
      "source": [
        "#fazendo os ajustes necessários - basta entender que, agora, pra completar o album com dois amigos, por exemplo, é necessário ter duas figurinhas de cada posição\n",
        "\n",
        "def SimulaAlbum(n_amigos): #agora com o paramentro do número de amigos\n",
        "\n",
        "    n_album = 212\n",
        "    preco_pacote = 4\n",
        "    cromos_por_pacote = 4\n",
        "    preco_album = 10\n",
        "\n",
        "    album = np.zeros(n_album)\n",
        "    pacotes = 0\n",
        "\n",
        "    while True:\n",
        "      pacotinho = np.random.choice(np.arange(0, n_album) , size = 4)\n",
        "      pacotes += 1 \n",
        "\n",
        "      for i in [0, 1, 2, 3]:\n",
        "        album[pacotinho[i]] += 1\n",
        "        \n",
        "      if np.all(album >= n_amigos): # mudamos isso aqui\n",
        "        break  \n",
        "\n",
        "    custo = pacotes*preco_pacote + preco_album\n",
        "\n",
        "    return custo / n_amigos # mudamos isso aqui"
      ],
      "metadata": {
        "id": "5J491dQMqRdZ"
      },
      "execution_count": null,
      "outputs": []
    },
    {
      "cell_type": "code",
      "source": [
        "SimulaAlbum(2)"
      ],
      "metadata": {
        "colab": {
          "base_uri": "https://localhost:8080/"
        },
        "id": "aWVcAysarTQg",
        "outputId": "3f170353-170e-48c2-cf02-e94f533e64b7"
      },
      "execution_count": null,
      "outputs": [
        {
          "output_type": "execute_result",
          "data": {
            "text/plain": [
              "697.0"
            ]
          },
          "metadata": {},
          "execution_count": 88
        }
      ]
    },
    {
      "cell_type": "code",
      "source": [
        "S = 1000 \n",
        "resultados = []\n",
        "\n",
        "for i in range(S): \n",
        "  pessoa = SimulaAlbum(2) #simulando com 2 pessoas\n",
        "  resultados.append(pessoa)\n",
        "\n",
        "sim = np.array(resultados)\n",
        "sim.mean()"
      ],
      "metadata": {
        "colab": {
          "base_uri": "https://localhost:8080/"
        },
        "id": "jOwR2-Cjqkj3",
        "outputId": "5b41c8b3-3c22-44d8-9051-c49e2d7c451b"
      },
      "execution_count": null,
      "outputs": [
        {
          "output_type": "execute_result",
          "data": {
            "text/plain": [
              "873.104"
            ]
          },
          "metadata": {},
          "execution_count": 90
        }
      ]
    },
    {
      "cell_type": "code",
      "source": [
        "#desconto em relação ao outro gasto:\n",
        "\n",
        "1 - sim.mean() / 1270 #proporção de gastos - 31% de redução de custo"
      ],
      "metadata": {
        "colab": {
          "base_uri": "https://localhost:8080/"
        },
        "id": "mUaHSWVFsMe2",
        "outputId": "044edf3a-4513-4b15-a783-200cb9303d08"
      },
      "execution_count": null,
      "outputs": [
        {
          "output_type": "execute_result",
          "data": {
            "text/plain": [
              "0.3125165354330708"
            ]
          },
          "metadata": {},
          "execution_count": 93
        }
      ]
    },
    {
      "cell_type": "markdown",
      "source": [
        "### 8. Qual o valor médio gasto caso se esteja completando o álbum com mais dois amigos?"
      ],
      "metadata": {
        "id": "sMIBrs1oltjr"
      }
    },
    {
      "cell_type": "code",
      "source": [
        "S = 1000 \n",
        "resultados = []\n",
        "\n",
        "for i in range(S): \n",
        "  pessoa = SimulaAlbum(3) #simulando com 2 pessoas\n",
        "  resultados.append(pessoa)\n",
        "\n",
        "sim = np.array(resultados)\n",
        "sim.mean()"
      ],
      "metadata": {
        "colab": {
          "base_uri": "https://localhost:8080/"
        },
        "id": "oXyA6QUTslCZ",
        "outputId": "fd485f15-c5ac-4ad4-9ad2-bc84ca439ba8"
      },
      "execution_count": null,
      "outputs": [
        {
          "output_type": "execute_result",
          "data": {
            "text/plain": [
              "711.9053333333334"
            ]
          },
          "metadata": {},
          "execution_count": 94
        }
      ]
    },
    {
      "cell_type": "code",
      "source": [
        "1 - sim.mean() / 1270 #proporção de gastos - 44% de redução de custo"
      ],
      "metadata": {
        "colab": {
          "base_uri": "https://localhost:8080/"
        },
        "id": "7vgH0H_-szNc",
        "outputId": "f0ca2b16-3cf0-4dc3-cd81-c76b5efef799"
      },
      "execution_count": null,
      "outputs": [
        {
          "output_type": "execute_result",
          "data": {
            "text/plain": [
              "0.4394446194225722"
            ]
          },
          "metadata": {},
          "execution_count": 95
        }
      ]
    },
    {
      "cell_type": "markdown",
      "source": [
        "### Fazer depois a seção do gráfico com o custo por amigo e os exercícios"
      ],
      "metadata": {
        "id": "QA_JL02yuVqu"
      }
    }
  ]
}