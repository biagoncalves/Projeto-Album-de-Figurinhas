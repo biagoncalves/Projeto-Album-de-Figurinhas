{
  "nbformat": 4,
  "nbformat_minor": 0,
  "metadata": {
    "colab": {
      "name": "Projeto Album de Figurinhas.ipynb",
      "provenance": [],
      "collapsed_sections": [],
      "authorship_tag": "ABX9TyP4Ujd9+eW/vNkDhXarCaPP",
      "include_colab_link": true
    },
    "kernelspec": {
      "name": "python3",
      "display_name": "Python 3"
    },
    "language_info": {
      "name": "python"
    }
  },
  "cells": [
    {
      "cell_type": "markdown",
      "metadata": {
        "id": "view-in-github",
        "colab_type": "text"
      },
      "source": [
        "<a href=\"https://colab.research.google.com/github/biagoncalves/Projeto-Album-de-Figurinhas/blob/main/Projeto_Album_de_Figurinhas.ipynb\" target=\"_parent\"><img src=\"https://colab.research.google.com/assets/colab-badge.svg\" alt=\"Open In Colab\"/></a>"
      ]
    },
    {
      "cell_type": "markdown",
      "source": [
        "#**PROJETO: Álbum One Piece 2021**\n",
        "\n"
      ],
      "metadata": {
        "id": "fvIKbWU9qWCp"
      }
    },
    {
      "cell_type": "markdown",
      "source": [
        "Quantos de nós já não tiveram a incrível experiência de comprar e ~~tentar~~ completar álbuns de figurinhas? A empolgante sensação de abrir cada pacote de figurinhas, esperando encontrar os cromos faltantes fez parte da infância de muitos. Mas quanto será que tudo isso custa? Bom, podemos responder a essas e outras perguntas com o auxílio do Python e algumas suposições básicas.\n",
        "\n",
        "Este projeto foi inicialmente desenvolvido pelo Prof. Dr. Ricardo Rocha da FLAI – Inteligência Artificial e Data Science.\n",
        "\n",
        "Vamos começar então? :)"
      ],
      "metadata": {
        "id": "CwboZQnSHgcP"
      }
    },
    {
      "cell_type": "markdown",
      "source": [
        "## **CARACTERÍSTICAS**\n",
        "\n",
        "O álbum tomado como exemplo para esta análise tem as seguintes características:\n",
        "\n",
        "* Total de cromos: **212**\n",
        "* Preço do livro ilustrado capa brochura: **R\\$ 10,00**\n",
        "* Envelope com 4 cromos: **R\\$ 4,00**\n"
      ],
      "metadata": {
        "id": "5wteM0EOHczY"
      }
    },
    {
      "cell_type": "markdown",
      "source": [
        "## **SUPOSIÇÕES**\n",
        "\n",
        "Para iniciar os estudos, é necessário assumir algumas suposições que nos ajudarão a desenvolver um método de análise eficiente. São as seguintes:\n",
        "\n",
        "1. Todas as figurinhas têm igual probabilidade de serem sorteadas;\n",
        "2. Um pacotinho é comprado por vez até que se complete o álbum.\n",
        "\n"
      ],
      "metadata": {
        "id": "Kf8KFrXdiMp5"
      }
    },
    {
      "cell_type": "markdown",
      "source": [
        "## **ALGORITMO**\n",
        "\n",
        "Antes de escrever qualquer linha de código, é importante ter em mente o que será feito. Para isso, estabelecemos um algoritmo, que é, basicamente, uma sequência de passos que tomamos para chegar a um objetivo específico, uma solução para o problema. Podemos definir como nosso algoritmo a seguinte metodologia:\n",
        "\n",
        "1. Comprar um pacotinho de figurinhas (4 figurinhas cada, que podem ser repetidas);\n",
        "2. Colar no álbum e verificar se o álbum está completo;\n",
        "3. Caso esteja incompleto, comprar mais um pacotinho. Caso contrário, terminar.\n",
        "\n"
      ],
      "metadata": {
        "id": "Nc98xrebiymf"
      }
    },
    {
      "cell_type": "markdown",
      "source": [
        "##**PERGUNTAS**\n",
        "\n",
        "O objetivo deste projeto será, então, responder às seguintes perguntas:\n",
        "\n",
        "1. Qual o valor médio investido para completar o álbum nessas condições?\n",
        "2. Quantos pacotes são necessários comprar, em média, para completar o álbum?\n",
        "3. Qual é a distribuição empírica do valor investido para completar o álbum?\n",
        "4. Qual a probabilidade de se gastar menos que R$ 1.500,00 para completar o álbum?\n",
        "5. Qual a probabilidade de se gastar mais do que a média para completar o álbum?\n",
        "6. Qual é um intervalo de confiança de 95% para o gasto ao se completar o álbum?\n",
        "7. Qual o valor médio gasto caso se esteja completando o álbum com mais um amigo?\n",
        "8. Qual o valor médio gasto caso se esteja completando o álbum com mais dois amigos?"
      ],
      "metadata": {
        "id": "oQMfOiIEjqb3"
      }
    },
    {
      "cell_type": "markdown",
      "source": [
        "---\n",
        "\n",
        "#### Partindo, então, para o código em si:\n",
        "\n",
        "Vamos começar importando as bibliotecas necessárias e colocando em formato de código as características e suposições do nosso projeto."
      ],
      "metadata": {
        "id": "7lR9kLDmHImp"
      }
    },
    {
      "cell_type": "code",
      "source": [
        "# Importando as bibliotecas necessárias\n",
        "\n",
        "import numpy as np"
      ],
      "metadata": {
        "id": "flziTyM5q2jy"
      },
      "execution_count": null,
      "outputs": []
    },
    {
      "cell_type": "code",
      "source": [
        "# Definindo as nossas variáveis\n",
        "\n",
        "n_album = 212\n",
        "preco_pacote = 4\n",
        "cromos_por_pacote = 4\n",
        "preco_album = 10"
      ],
      "metadata": {
        "id": "DLFfcZSQmMH5"
      },
      "execution_count": null,
      "outputs": []
    },
    {
      "cell_type": "markdown",
      "source": [
        "E agora? Como vamos representar o álbum de figurinhas dentro da estrutura do Python? \n",
        "\n",
        "Podemos utilizar a função np.zeros, do pacote numpy, que cria um vetor com uma quantidade n de zeros. Assim, teremos a representação de um álbum com n espaços vazios que serão posteriormente preenchidos com os cromos."
      ],
      "metadata": {
        "id": "O28nay80IPxw"
      }
    },
    {
      "cell_type": "code",
      "source": [
        "# Álbum vazio\n",
        "\n",
        "album = np.zeros(n_album)\n",
        "\n",
        "album"
      ],
      "metadata": {
        "colab": {
          "base_uri": "https://localhost:8080/"
        },
        "id": "ljShpJtErEy3",
        "outputId": "78ad9332-0253-4afe-b39a-ff8de12e3e88"
      },
      "execution_count": null,
      "outputs": [
        {
          "output_type": "execute_result",
          "data": {
            "text/plain": [
              "array([0., 0., 0., 0., 0., 0., 0., 0., 0., 0., 0., 0., 0., 0., 0., 0., 0.,\n",
              "       0., 0., 0., 0., 0., 0., 0., 0., 0., 0., 0., 0., 0., 0., 0., 0., 0.,\n",
              "       0., 0., 0., 0., 0., 0., 0., 0., 0., 0., 0., 0., 0., 0., 0., 0., 0.,\n",
              "       0., 0., 0., 0., 0., 0., 0., 0., 0., 0., 0., 0., 0., 0., 0., 0., 0.,\n",
              "       0., 0., 0., 0., 0., 0., 0., 0., 0., 0., 0., 0., 0., 0., 0., 0., 0.,\n",
              "       0., 0., 0., 0., 0., 0., 0., 0., 0., 0., 0., 0., 0., 0., 0., 0., 0.,\n",
              "       0., 0., 0., 0., 0., 0., 0., 0., 0., 0., 0., 0., 0., 0., 0., 0., 0.,\n",
              "       0., 0., 0., 0., 0., 0., 0., 0., 0., 0., 0., 0., 0., 0., 0., 0., 0.,\n",
              "       0., 0., 0., 0., 0., 0., 0., 0., 0., 0., 0., 0., 0., 0., 0., 0., 0.,\n",
              "       0., 0., 0., 0., 0., 0., 0., 0., 0., 0., 0., 0., 0., 0., 0., 0., 0.,\n",
              "       0., 0., 0., 0., 0., 0., 0., 0., 0., 0., 0., 0., 0., 0., 0., 0., 0.,\n",
              "       0., 0., 0., 0., 0., 0., 0., 0., 0., 0., 0., 0., 0., 0., 0., 0., 0.,\n",
              "       0., 0., 0., 0., 0., 0., 0., 0.])"
            ]
          },
          "metadata": {},
          "execution_count": 12
        }
      ]
    },
    {
      "cell_type": "markdown",
      "source": [
        "Agora vamos simular a compra de um pacote de figurinhas. Para isso, vamos utilizar as funções np.arange e np.random.choice.\n",
        "\n",
        "A função np.arange cria uma sequência de valores com início e fim determinados. A nossa sequência vai representar as 212 posições possíveis para as figurinhas. É interessante observar que a sequência começa com um 0 e termina na posição n - 1.\n",
        "\n",
        "Já a função np.random.choice gera uma amostra aleatória a partir de um vetor, com um determinado tamanho. Aqui, vamos gerar uma amostra de tamanho 4 a partir da quantidade de figurinhas do álbum para representar os cromos de um pacotinho. Uma observação importante é que, da forma que foi especificada, a função pode gerar amostras com valores repetidos, representando para nós figurinhas repetidas."
      ],
      "metadata": {
        "id": "cFYo7Li0LiUn"
      }
    },
    {
      "cell_type": "code",
      "source": [
        "# Comprando um pacote com 4 figurinhas\n",
        "\n",
        "#np.arange(0, n_album)\n",
        "\n",
        "pacotinho = np.random.choice(np.arange(0, n_album) , size = 4)\n",
        "\n",
        "pacotinho"
      ],
      "metadata": {
        "colab": {
          "base_uri": "https://localhost:8080/"
        },
        "id": "5EhsGrcsrqGL",
        "outputId": "9c03de6c-b9e6-4324-920f-64b6348acd1b"
      },
      "execution_count": null,
      "outputs": [
        {
          "output_type": "execute_result",
          "data": {
            "text/plain": [
              "array([125, 190, 126, 155])"
            ]
          },
          "metadata": {},
          "execution_count": 8
        }
      ]
    },
    {
      "cell_type": "markdown",
      "source": [
        "O que faremos agora é simular a colagem das figurinhas sorteadas, preenchendo aos poucos os espaços vazios do álbum. O que a função abaixo irá fazer é adicionar o valor 1 nas posições correspondentes aos números sorteados na amostra aleatória dos pacotinhos."
      ],
      "metadata": {
        "id": "zRIb13t1z1Oe"
      }
    },
    {
      "cell_type": "code",
      "source": [
        "# Colando figurinhas no álbum\n",
        "\n",
        "# Lembrando que as duas funções abaixo geram os mesmos resultados:\n",
        "\n",
        "# album[pacotinho[0]] = album[pacotinho[0]] + 1  \n",
        "# ou \n",
        "# album[pacotinho[0]] += 1\n",
        "\n",
        "# o que o operador += faz é somar um valor ao próprio objeto que está à sua esquerda\n",
        "\n",
        "album[pacotinho[0]] += 1\n",
        "album[pacotinho[1]] += 1\n",
        "album[pacotinho[2]] += 1\n",
        "album[pacotinho[3]] += 1\n",
        "\n",
        "album"
      ],
      "metadata": {
        "colab": {
          "base_uri": "https://localhost:8080/"
        },
        "id": "P4jkYBtvyXy5",
        "outputId": "bc7876c7-2718-4678-b1f4-ce5529f017a6"
      },
      "execution_count": null,
      "outputs": [
        {
          "output_type": "execute_result",
          "data": {
            "text/plain": [
              "array([0., 0., 0., 0., 0., 0., 0., 0., 0., 0., 0., 0., 0., 0., 0., 0., 0.,\n",
              "       0., 0., 0., 0., 0., 0., 0., 0., 0., 0., 0., 0., 0., 0., 0., 0., 0.,\n",
              "       0., 0., 0., 0., 0., 0., 0., 0., 0., 0., 0., 0., 0., 0., 0., 0., 0.,\n",
              "       0., 0., 0., 0., 0., 0., 0., 0., 0., 0., 0., 0., 0., 0., 0., 0., 0.,\n",
              "       0., 0., 0., 0., 0., 0., 0., 0., 0., 0., 0., 0., 0., 0., 0., 0., 0.,\n",
              "       0., 0., 0., 0., 0., 0., 0., 0., 0., 0., 0., 0., 0., 0., 0., 0., 0.,\n",
              "       0., 0., 0., 0., 0., 0., 0., 0., 0., 0., 0., 0., 0., 0., 0., 0., 0.,\n",
              "       0., 0., 0., 0., 0., 0., 1., 1., 0., 0., 0., 0., 0., 0., 0., 0., 0.,\n",
              "       0., 0., 0., 0., 0., 0., 0., 0., 0., 0., 0., 0., 0., 0., 0., 0., 0.,\n",
              "       0., 0., 1., 0., 0., 0., 0., 0., 0., 0., 0., 0., 0., 0., 0., 0., 0.,\n",
              "       0., 0., 0., 0., 0., 0., 0., 0., 0., 0., 0., 0., 0., 0., 0., 0., 0.,\n",
              "       0., 0., 0., 1., 0., 0., 0., 0., 0., 0., 0., 0., 0., 0., 0., 0., 0.,\n",
              "       0., 0., 0., 0., 0., 0., 0., 0.])"
            ]
          },
          "metadata": {},
          "execution_count": 13
        }
      ]
    },
    {
      "cell_type": "markdown",
      "source": [
        "O que podemos fazer agora é utilizar algum comando para verificar se todas as posições (espaços vazios do álbum) foram preenchidas. Queremos saber, então, se cada posição do álbum é maior ou igual a 1. Se utilizarmos album >= 1 , teremos uma análise elemento a elemento do vetor. Podemos, entretanto, utilizar a função np.all que mostrará se todos os elementos do vetor possum a mesma propriedade lógica desejada."
      ],
      "metadata": {
        "id": "a8U4Csda7Z41"
      }
    },
    {
      "cell_type": "code",
      "source": [
        "# Temos todas as figurinhas?\n",
        "\n",
        "np.all(album >= 1) \n",
        "\n",
        "# A função acima retornará True quando o álbum estiver completo. \n",
        "# Também podemos utilizar not np.all(album >= 1) , que retornará False quando estiver completo."
      ],
      "metadata": {
        "colab": {
          "base_uri": "https://localhost:8080/"
        },
        "id": "_P-_yLk0aeYa",
        "outputId": "074261f6-092f-4112-8852-edb347cd7421"
      },
      "execution_count": null,
      "outputs": [
        {
          "output_type": "execute_result",
          "data": {
            "text/plain": [
              "False"
            ]
          },
          "metadata": {},
          "execution_count": 17
        }
      ]
    },
    {
      "cell_type": "markdown",
      "source": [
        "Agora que entendemos como o nosso algoritmo funciona em linguagem de programação, podemos colocar todo esse passo a passo em um rápido programinha para executar os resultados que procuramos. Para isso, utilizaremos os iteradores while e for e o condicional if.\n",
        "\n",
        "O que o programa irá fazer é, basicamente, \"comprar\" um álbum de figurinhas vazio, comprar um pacote com 4 cromos aleatórios, colar as 4 figurinhas no álbum e verificar se, então, todos os espaços vazios foram preenchidos. Caso o álbum não esteja completo, ele repetirá o procedimento da compra de pacotinhos até que não haja mais espaços vazios. Quando isso acontecer, o programa será finalizado."
      ],
      "metadata": {
        "id": "UdhNmti3_r76"
      }
    },
    {
      "cell_type": "code",
      "source": [
        "# Colocando tudo o que foi visto até agora em um programa\n",
        "\n",
        "album = np.zeros(n_album)\n",
        "pacotes = 0   # criando o objeto pacotes\n",
        "\n",
        "while True:\n",
        "  pacotinho = np.random.choice(np.arange(0, n_album) , size = 4)\n",
        "  pacotes += 1 \n",
        "\n",
        "  for i in [0, 1, 2, 3]: # também podemos fazer este passo com for i in range(4) - assim vai de 0 a 3 como se fosse um np.arange\n",
        "    album[pacotinho[i]] += 1\n",
        "    \n",
        "  if np.all(album >= 1):\n",
        "    break  \n",
        "\n",
        "print(album, pacotes) # para visualizar o álbum e a quantidade de pacotinhos necessários para preencher todo o álbum\n",
        "\n",
        "# Também podemos encontrar o valor desembolsado para preencher todo o álbum. \n",
        "# Basta somarmos o custo do álbum puro com o custo de cada pacote multiplicado pela quantidade de pacotinhos comprados.\n",
        "\n",
        "print(preco_album + preco_pacote*pacotes) # custo final"
      ],
      "metadata": {
        "colab": {
          "base_uri": "https://localhost:8080/"
        },
        "id": "BjMTH61Magxb",
        "outputId": "2bd4b400-1cc9-4023-f2f6-e3a4899bf6d9"
      },
      "execution_count": null,
      "outputs": [
        {
          "output_type": "stream",
          "name": "stdout",
          "text": [
            "[ 6.  7.  7.  4.  4.  9.  8.  3. 14.  3.  5.  6.  5.  2.  5.  3.  4.  5.\n",
            "  6. 10.  4.  7.  4.  7.  7.  6.  7.  5.  7.  4.  6.  6.  5.  8.  4.  6.\n",
            "  2. 12.  5.  8.  4.  1. 11.  4.  8.  8.  3.  5.  5.  4.  6.  7.  7.  1.\n",
            "  8.  8.  4.  8.  3.  3.  7.  6.  4.  7.  7. 11.  4.  5.  5.  6.  8.  7.\n",
            "  8.  5.  8.  7.  8.  8.  5.  4.  6.  5.  8.  5. 10.  4.  2.  1.  1.  4.\n",
            "  5.  5.  6.  8. 13.  1.  3.  5.  7.  3. 11.  7.  4. 10.  3.  9.  5.  4.\n",
            "  9.  9.  8.  7.  4.  3.  3.  2.  9.  6.  6.  4.  5.  6. 10.  5.  9.  6.\n",
            "  8.  4.  8.  3.  2.  2.  7.  4.  3.  8.  4.  7.  7.  3.  3.  7.  8.  5.\n",
            "  3.  6.  2.  2.  7.  6. 11.  7.  5.  5. 10.  2.  5.  5.  6.  6.  3.  6.\n",
            "  4.  6.  4.  9.  4.  6.  8.  5.  6.  2.  8.  5.  8.  7.  3.  4.  4.  4.\n",
            "  3.  5.  4.  9.  3.  8.  3.  9.  6.  8.  6.  4.  5.  3.  5.  7.  7. 11.\n",
            "  7.  5.  6. 12.  9.  4.  4.  6.  6.  7.  6. 10.  5.  4.] 306\n",
            "1234\n"
          ]
        }
      ]
    },
    {
      "cell_type": "markdown",
      "source": [
        "Em casos como este, nos quais precisamos repetir os mesmos procedimentos por muitas vezes, podemos criar uma função que englobe todos essas etapas, reduzindo o trabalho.\n",
        "\n",
        "Façamos, então, uma função para nossa simulação, com os mesmos passos utilizados anteriormente:"
      ],
      "metadata": {
        "id": "76lWoKizHaeR"
      }
    },
    {
      "cell_type": "code",
      "source": [
        "# Construindo a função\n",
        "\n",
        "def SimulaAlbum(): # sem parâmetro, já que a função será utilizada somente para executar o código\n",
        "\n",
        "    n_album = 212\n",
        "    preco_pacote = 4\n",
        "    cromos_por_pacote = 4\n",
        "    preco_album = 10\n",
        "\n",
        "    album = np.zeros(n_album)\n",
        "    pacotes = 0\n",
        "\n",
        "    while True:\n",
        "      pacotinho = np.random.choice(np.arange(0, n_album) , size = 4)\n",
        "      pacotes += 1 \n",
        "\n",
        "      for i in [0, 1, 2, 3]:\n",
        "        album[pacotinho[i]] += 1\n",
        "        \n",
        "      if np.all(album >= 1):\n",
        "        break  \n",
        "\n",
        "    custo = preco_album + preco_pacote*pacotes\n",
        "\n",
        "    return custo "
      ],
      "metadata": {
        "id": "-gpXAMcfeE0B"
      },
      "execution_count": null,
      "outputs": []
    },
    {
      "cell_type": "markdown",
      "source": [
        "Como pode ser observado no código acima, a função SimulaAlbum irá retornar o custo total ao se comprar um álbum de figurinhas e o preencher completamente, sob as condições dadas."
      ],
      "metadata": {
        "id": "ruuUZg6xbcQa"
      }
    },
    {
      "cell_type": "code",
      "source": [
        "# Resultados da função\n",
        "\n",
        "SimulaAlbum()"
      ],
      "metadata": {
        "colab": {
          "base_uri": "https://localhost:8080/"
        },
        "id": "IsgG2JUegSPq",
        "outputId": "3d9a9638-3552-46fc-97e8-183b2cf02a21"
      },
      "execution_count": null,
      "outputs": [
        {
          "output_type": "execute_result",
          "data": {
            "text/plain": [
              "1302"
            ]
          },
          "metadata": {},
          "execution_count": 41
        }
      ]
    },
    {
      "cell_type": "markdown",
      "source": [
        "Agora que entendemos e desenhamos todo o procedimento, podemos, finalmente, responder às perguntas feitas no início do problema:\n",
        "\n",
        "---"
      ],
      "metadata": {
        "id": "klQ1LT-AceIq"
      }
    },
    {
      "cell_type": "markdown",
      "source": [
        "### 1. Qual o valor médio investido para completar o álbum nessas condições?"
      ],
      "metadata": {
        "id": "FH7VNtZXjMZT"
      }
    },
    {
      "cell_type": "markdown",
      "source": [
        "Para responder essa pergunta, é importante observar que, ao fazer a operação acima, teremos resultados variando a cada execução, já que envolve a geração de amostras aleatórias. Como fazemos, então, para obter um valor médio consistente?\n",
        "\n",
        "Para isso, podemos replicar o nosso experimento algumas vezes e obter o resultado médio através de uma simulação. \n",
        "\n",
        "O que faremos, então, é repetir a execução da função SimulaAlbum por uma boa quantidade de vezes e obter um valor médio entre os resultados gerados. Aqui, executaremos a função 1000 vezes, guardando cada resultado em uma lista, e aplicaremos o método .mean() para encontrar a média final. "
      ],
      "metadata": {
        "id": "nxAEUJ0hbG6X"
      }
    },
    {
      "cell_type": "code",
      "source": [
        "S = 1000  # quantidade de simulações que serão feitas\n",
        "\n",
        "resultados = []  # criando a lista que guardará cada resultado\n",
        "\n",
        "for i in range(S): \n",
        "  pessoa = SimulaAlbum()\n",
        "  resultados.append(pessoa)  # guardando os resultados\n",
        "\n",
        "  # Se for do nosso interesse, podemos acompanhar o processamento dos cálculos com as funções abaixo:\n",
        "\n",
        "  #if i % 100 == 0: \n",
        "   #print (i)\n",
        "\n",
        "# Guardando todos os resultados em um único vetor\n",
        "\n",
        "sim = np.array(resultados)\n",
        "\n",
        "# Visualizando a média do custo\n",
        "\n",
        "print(np.array(resultados).mean())  # ou print(sim.mean())\n",
        "\n"
      ],
      "metadata": {
        "colab": {
          "base_uri": "https://localhost:8080/"
        },
        "id": "f3jXPwWSe_6D",
        "outputId": "f7a82787-ceac-4ba8-8dc9-ad59c5d8a831"
      },
      "execution_count": null,
      "outputs": [
        {
          "output_type": "stream",
          "name": "stdout",
          "text": [
            "1273.84\n"
          ]
        }
      ]
    },
    {
      "cell_type": "markdown",
      "source": [
        "Encontramos, então, que o valor médio investido para completar o álbum nessas condições é de R$ 1.273,84."
      ],
      "metadata": {
        "id": "sydFO8L6f4jt"
      }
    },
    {
      "cell_type": "markdown",
      "source": [
        "### 2. Quantos pacotes são necessários comprar, em média, para completar o álbum?"
      ],
      "metadata": {
        "id": "AiIjwMcIjZjZ"
      }
    },
    {
      "cell_type": "markdown",
      "source": [
        "Para responder essa questão, basta fazer o procedimento inverso do cálculo para o custo final. Ou seja, pegamos o custo médio total, subtraímos o custo do álbum puro, e dividimos o resultado pelo preço do pacote unitário."
      ],
      "metadata": {
        "id": "NOU5OjxugL2H"
      }
    },
    {
      "cell_type": "code",
      "source": [
        "# Número de pacotinhos\n",
        "\n",
        "(np.array(resultados).mean() - preco_album) / preco_pacote"
      ],
      "metadata": {
        "colab": {
          "base_uri": "https://localhost:8080/"
        },
        "id": "4Vk3bvZCiaC6",
        "outputId": "efe92013-4e20-475e-8edf-03c4d9ea06f5"
      },
      "execution_count": null,
      "outputs": [
        {
          "output_type": "execute_result",
          "data": {
            "text/plain": [
              "315.96"
            ]
          },
          "metadata": {},
          "execution_count": 49
        }
      ]
    },
    {
      "cell_type": "markdown",
      "source": [
        "Encontramos, então, que é necessário comprar, em média, 316 pacotes de figurinhas para completar o álbum."
      ],
      "metadata": {
        "id": "A7zsHwczgrgC"
      }
    },
    {
      "cell_type": "markdown",
      "source": [
        "### 3. Qual é a distribuição empírica do valor investido para completar o álbum?"
      ],
      "metadata": {
        "id": "n7xzJ5BRjkuO"
      }
    },
    {
      "cell_type": "markdown",
      "source": [
        "Para conhecer a distribuição empírica do valor investido para completar o álbum, podemos gerar um gráfico da densidade em relação ao valor gasto.\n",
        "\n",
        "Para gerar o gráfico, vamos utilizar as funções da biblioteca matplotlib.python."
      ],
      "metadata": {
        "id": "Pp2yGd8YIdAz"
      }
    },
    {
      "cell_type": "code",
      "source": [
        "#distribuição da probabilidade relacionada aos custos de se completar o álbum\n",
        "\n",
        "import matplotlib.pyplot as plt\n",
        "\n",
        "plt.hist(sim, bins = 20, density = True, color = 'royalblue', edgecolor = 'black') #density é pra colocar proporção ao invés da contagem\n",
        "plt.title('Distribuição Empírica do Valor Gato para Completar o Álbum')\n",
        "plt.show()"
      ],
      "metadata": {
        "colab": {
          "base_uri": "https://localhost:8080/",
          "height": 283
        },
        "id": "jv9TRJ1MjoBn",
        "outputId": "c252d121-e125-42dc-fd01-fc8874c91e0d"
      },
      "execution_count": null,
      "outputs": [
        {
          "output_type": "display_data",
          "data": {
            "image/png": "[encoded data removed]",
            "text/plain": [
              "<Figure size 432x288 with 1 Axes>"
            ]
          },
          "metadata": {
            "needs_background": "light"
          }
        }
      ]
    },
    {
      "cell_type": "markdown",
      "source": [
        "### 4. Qual a probabilidade de se gastar menos que R$ 1.500,00 para completar o álbum?"
      ],
      "metadata": {
        "id": "C7Kfa-OglR0A"
      }
    },
    {
      "cell_type": "code",
      "source": [
        "#basta ver a frequencia com que ocorreu os valores abaixo de 1500\n",
        "\n",
        "# np.array(sim) < 1500 compara dentro do vetor os valores menores que 1500. considerando que true é igual a 1 e false igual a 0, a soma dessa operação será a qtd de valores procurada\n",
        "\n",
        "# (np.array(sim) < 1500).mean() é a proporção de trues - o mesmo que faremos abaixo\n",
        "\n",
        "prob1 = sum(np.array(sim) < 1500) / S\n",
        "\n",
        "print('A probabilidade de se gastar menos de 1500 é {:.2f}%'.format(prob1*100))"
      ],
      "metadata": {
        "colab": {
          "base_uri": "https://localhost:8080/"
        },
        "id": "XYp9PBGUlxjJ",
        "outputId": "92da085a-efb8-4617-db6a-8385b0b74183"
      },
      "execution_count": null,
      "outputs": [
        {
          "output_type": "stream",
          "name": "stdout",
          "text": [
            "A probabilidade de se gastar menos de 1500 é 82.60%\n"
          ]
        }
      ]
    },
    {
      "cell_type": "markdown",
      "source": [
        "### 5. Qual a probabilidade de se gastar mais do que a média para completar o álbum?\n"
      ],
      "metadata": {
        "id": "oiUK8mvDlR_Z"
      }
    },
    {
      "cell_type": "code",
      "source": [
        "prob2 = sum(np.array(sim) > np.array(sim).mean()) / S\n",
        "\n",
        "print('A probabilidade de se gastar mais do que a média é {:.2f}%'.format(prob2*100))"
      ],
      "metadata": {
        "colab": {
          "base_uri": "https://localhost:8080/"
        },
        "id": "q-T0Swk3mTBx",
        "outputId": "09f80f6b-0f4f-458b-cc8a-38ca5b11364f"
      },
      "execution_count": null,
      "outputs": [
        {
          "output_type": "stream",
          "name": "stdout",
          "text": [
            "A probabilidade de se gastar mais do que a média é 41.60%\n"
          ]
        }
      ]
    },
    {
      "cell_type": "markdown",
      "source": [
        "### 6. Qual é um intervalo de confiança de 95% para o gasto ao se completar o álbum?\n"
      ],
      "metadata": {
        "id": "5yVO1pEwlSC9"
      }
    },
    {
      "cell_type": "code",
      "source": [
        "#intervalo de confiança via quantil - imaginar no histograma: 2,5% do canto esquerdo, 2,5% do canto direito e os 95% do meio\n",
        "\n",
        "qts = np.quantile(sim, [0.025, 0.975])\n",
        "qts\n",
        "\n",
        "#posso afirmar, com 95% de confiança, que o gasto a se ter para completar o álbum está entre R$ 874,00 e R$ 1.914,00. Mostra uma grande variabilidade"
      ],
      "metadata": {
        "colab": {
          "base_uri": "https://localhost:8080/"
        },
        "id": "rsKhiBvDokCg",
        "outputId": "7e0d783e-7fcd-4e83-f373-8af65a9b9332"
      },
      "execution_count": null,
      "outputs": [
        {
          "output_type": "execute_result",
          "data": {
            "text/plain": [
              "array([ 874., 1914.])"
            ]
          },
          "metadata": {},
          "execution_count": 84
        }
      ]
    },
    {
      "cell_type": "markdown",
      "source": [
        "### 7. Qual o valor médio gasto caso se esteja completando o álbum com mais um amigo?"
      ],
      "metadata": {
        "id": "8dPibw12lSGJ"
      }
    },
    {
      "cell_type": "code",
      "source": [
        "#fazendo os ajustes necessários - basta entender que, agora, pra completar o album com dois amigos, por exemplo, é necessário ter duas figurinhas de cada posição\n",
        "\n",
        "def SimulaAlbum(n_amigos): #agora com o paramentro do número de amigos\n",
        "\n",
        "    n_album = 212\n",
        "    preco_pacote = 4\n",
        "    cromos_por_pacote = 4\n",
        "    preco_album = 10\n",
        "\n",
        "    album = np.zeros(n_album)\n",
        "    pacotes = 0\n",
        "\n",
        "    while True:\n",
        "      pacotinho = np.random.choice(np.arange(0, n_album) , size = 4)\n",
        "      pacotes += 1 \n",
        "\n",
        "      for i in [0, 1, 2, 3]:\n",
        "        album[pacotinho[i]] += 1\n",
        "        \n",
        "      if np.all(album >= n_amigos): # mudamos isso aqui\n",
        "        break  \n",
        "\n",
        "    custo = pacotes*preco_pacote + preco_album\n",
        "\n",
        "    return custo / n_amigos # mudamos isso aqui"
      ],
      "metadata": {
        "id": "5J491dQMqRdZ"
      },
      "execution_count": null,
      "outputs": []
    },
    {
      "cell_type": "code",
      "source": [
        "SimulaAlbum(2)"
      ],
      "metadata": {
        "colab": {
          "base_uri": "https://localhost:8080/"
        },
        "id": "aWVcAysarTQg",
        "outputId": "3f170353-170e-48c2-cf02-e94f533e64b7"
      },
      "execution_count": null,
      "outputs": [
        {
          "output_type": "execute_result",
          "data": {
            "text/plain": [
              "697.0"
            ]
          },
          "metadata": {},
          "execution_count": 88
        }
      ]
    },
    {
      "cell_type": "code",
      "source": [
        "S = 1000 \n",
        "resultados = []\n",
        "\n",
        "for i in range(S): \n",
        "  pessoa = SimulaAlbum(2) #simulando com 2 pessoas\n",
        "  resultados.append(pessoa)\n",
        "\n",
        "sim = np.array(resultados)\n",
        "sim.mean()"
      ],
      "metadata": {
        "colab": {
          "base_uri": "https://localhost:8080/"
        },
        "id": "jOwR2-Cjqkj3",
        "outputId": "5b41c8b3-3c22-44d8-9051-c49e2d7c451b"
      },
      "execution_count": null,
      "outputs": [
        {
          "output_type": "execute_result",
          "data": {
            "text/plain": [
              "873.104"
            ]
          },
          "metadata": {},
          "execution_count": 90
        }
      ]
    },
    {
      "cell_type": "code",
      "source": [
        "#desconto em relação ao outro gasto:\n",
        "\n",
        "1 - sim.mean() / 1270 #proporção de gastos - 31% de redução de custo"
      ],
      "metadata": {
        "colab": {
          "base_uri": "https://localhost:8080/"
        },
        "id": "mUaHSWVFsMe2",
        "outputId": "044edf3a-4513-4b15-a783-200cb9303d08"
      },
      "execution_count": null,
      "outputs": [
        {
          "output_type": "execute_result",
          "data": {
            "text/plain": [
              "0.3125165354330708"
            ]
          },
          "metadata": {},
          "execution_count": 93
        }
      ]
    },
    {
      "cell_type": "markdown",
      "source": [
        "### 8. Qual o valor médio gasto caso se esteja completando o álbum com mais dois amigos?"
      ],
      "metadata": {
        "id": "sMIBrs1oltjr"
      }
    },
    {
      "cell_type": "code",
      "source": [
        "S = 1000 \n",
        "resultados = []\n",
        "\n",
        "for i in range(S): \n",
        "  pessoa = SimulaAlbum(3) #simulando com 2 pessoas\n",
        "  resultados.append(pessoa)\n",
        "\n",
        "sim = np.array(resultados)\n",
        "sim.mean()"
      ],
      "metadata": {
        "colab": {
          "base_uri": "https://localhost:8080/"
        },
        "id": "oXyA6QUTslCZ",
        "outputId": "fd485f15-c5ac-4ad4-9ad2-bc84ca439ba8"
      },
      "execution_count": null,
      "outputs": [
        {
          "output_type": "execute_result",
          "data": {
            "text/plain": [
              "711.9053333333334"
            ]
          },
          "metadata": {},
          "execution_count": 94
        }
      ]
    },
    {
      "cell_type": "code",
      "source": [
        "1 - sim.mean() / 1270 #proporção de gastos - 44% de redução de custo"
      ],
      "metadata": {
        "colab": {
          "base_uri": "https://localhost:8080/"
        },
        "id": "7vgH0H_-szNc",
        "outputId": "f0ca2b16-3cf0-4dc3-cd81-c76b5efef799"
      },
      "execution_count": null,
      "outputs": [
        {
          "output_type": "execute_result",
          "data": {
            "text/plain": [
              "0.4394446194225722"
            ]
          },
          "metadata": {},
          "execution_count": 95
        }
      ]
    },
    {
      "cell_type": "markdown",
      "source": [
        "### Fazer depois a seção do gráfico com o custo por amigo e os exercícios"
      ],
      "metadata": {
        "id": "QA_JL02yuVqu"
      }
    }
  ]
}