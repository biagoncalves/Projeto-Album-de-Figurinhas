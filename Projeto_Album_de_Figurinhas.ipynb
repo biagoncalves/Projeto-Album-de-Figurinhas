{
  "nbformat": 4,
  "nbformat_minor": 0,
  "metadata": {
    "colab": {
      "name": "Projeto Album de Figurinhas.ipynb",
      "provenance": [],
      "collapsed_sections": [],
      "authorship_tag": "ABX9TyM/bvqEMLLRTjhvkPgDVjAS",
      "include_colab_link": true
    },
    "kernelspec": {
      "name": "python3",
      "display_name": "Python 3"
    },
    "language_info": {
      "name": "python"
    }
  },
  "cells": [
    {
      "cell_type": "markdown",
      "metadata": {
        "id": "view-in-github",
        "colab_type": "text"
      },
      "source": [
        "<a href=\"https://colab.research.google.com/github/biagoncalves/Projeto-Album-de-Figurinhas/blob/main/Projeto_Album_de_Figurinhas.ipynb\" target=\"_parent\"><img src=\"https://colab.research.google.com/assets/colab-badge.svg\" alt=\"Open In Colab\"/></a>"
      ]
    },
    {
      "cell_type": "markdown",
      "source": [
        "#**PROJETO: Álbum One Piece 2021**\n",
        "\n"
      ],
      "metadata": {
        "id": "fvIKbWU9qWCp"
      }
    },
    {
      "cell_type": "markdown",
      "source": [
        "Quantos de nós já não tiveram a incrível experiência de comprar e ~~tentar~~ completar álbuns de figurinhas? A empolgante sensação de abrir cada pacote de figurinhas, esperando encontrar os cromos faltantes, fez parte da infância de muitos. Mas quanto será que tudo isso custa? Bom, podemos responder a essas e outras perguntas com o auxílio do Python e algumas suposições básicas.\n",
        "\n",
        "Este projeto foi inicialmente desenvolvido pelo Prof. Dr. Ricardo Rocha da FLAI – Inteligência Artificial e Data Science.\n",
        "\n",
        "Vamos começar então? :)"
      ],
      "metadata": {
        "id": "CwboZQnSHgcP"
      }
    },
    {
      "cell_type": "markdown",
      "source": [
        "## **CARACTERÍSTICAS**\n",
        "\n",
        "O álbum tomado como exemplo para esta análise tem as seguintes características:\n",
        "\n",
        "* Total de cromos: **212**\n",
        "* Preço do livro ilustrado capa brochura: **R\\$ 10,00**\n",
        "* Envelope com 4 cromos: **R\\$ 4,00**\n"
      ],
      "metadata": {
        "id": "5wteM0EOHczY"
      }
    },
    {
      "cell_type": "markdown",
      "source": [
        "## **SUPOSIÇÕES**\n",
        "\n",
        "Para iniciar os estudos, é necessário assumir algumas suposições que nos ajudarão a desenvolver um método de análise eficiente. São as seguintes:\n",
        "\n",
        "1. Todas as figurinhas têm igual probabilidade de serem sorteadas;\n",
        "2. Um pacotinho é comprado por vez até que se complete o álbum.\n",
        "\n"
      ],
      "metadata": {
        "id": "Kf8KFrXdiMp5"
      }
    },
    {
      "cell_type": "markdown",
      "source": [
        "## **ALGORITMO**\n",
        "\n",
        "Antes de escrever qualquer linha de código, é importante ter em mente o que será feito. Para isso, estabelecemos um algoritmo, que é, basicamente, uma sequência de passos que tomamos para chegar a um objetivo específico, uma solução para o problema. Podemos definir como nosso algoritmo a seguinte metodologia:\n",
        "\n",
        "1. Comprar um pacotinho de figurinhas (4 figurinhas cada, que podem ser repetidas);\n",
        "2. Colar no álbum e verificar se o álbum está completo;\n",
        "3. Caso esteja incompleto, comprar mais um pacotinho. Caso contrário, terminar.\n",
        "\n"
      ],
      "metadata": {
        "id": "Nc98xrebiymf"
      }
    },
    {
      "cell_type": "markdown",
      "source": [
        "##**PERGUNTAS**\n",
        "\n",
        "O objetivo deste projeto será, então, responder às seguintes perguntas:\n",
        "\n",
        "1. Qual o valor médio investido para completar o álbum nessas condições?\n",
        "2. Quantos pacotes são necessários comprar, em média, para completar o álbum?\n",
        "3. Qual é a distribuição empírica do valor investido para completar o álbum?\n",
        "4. Qual a probabilidade de se gastar menos que R$ 1.500,00 para completar o álbum?\n",
        "5. Qual a probabilidade de se gastar mais do que a média para completar o álbum?\n",
        "6. Qual é um intervalo de confiança de 95% para o gasto ao se completar o álbum?\n",
        "7. Qual o valor médio gasto caso se esteja completando o álbum com mais um amigo?\n",
        "8. Qual o valor médio gasto caso se esteja completando o álbum com mais dois amigos?"
      ],
      "metadata": {
        "id": "oQMfOiIEjqb3"
      }
    },
    {
      "cell_type": "markdown",
      "source": [
        "---\n",
        "\n",
        "#### Partindo, então, para o código em si:\n",
        "\n",
        "Vamos começar importando as bibliotecas necessárias e colocando em formato de código as características e suposições do nosso projeto."
      ],
      "metadata": {
        "id": "7lR9kLDmHImp"
      }
    },
    {
      "cell_type": "code",
      "source": [
        "# Importando as bibliotecas necessárias\n",
        "\n",
        "import numpy as np\n",
        "import matplotlib.pyplot as plt"
      ],
      "metadata": {
        "id": "flziTyM5q2jy"
      },
      "execution_count": 1,
      "outputs": []
    },
    {
      "cell_type": "code",
      "source": [
        "# Definindo as nossas variáveis\n",
        "\n",
        "n_album = 212\n",
        "preco_pacote = 4\n",
        "cromos_por_pacote = 4\n",
        "preco_album = 10"
      ],
      "metadata": {
        "id": "DLFfcZSQmMH5"
      },
      "execution_count": 2,
      "outputs": []
    },
    {
      "cell_type": "markdown",
      "source": [
        "E agora? Como vamos representar o álbum de figurinhas dentro da estrutura do Python? \n",
        "\n",
        "Podemos utilizar a função np.zeros, do pacote numpy, que cria um vetor com uma quantidade n de zeros. Assim, teremos a representação de um álbum com n espaços vazios que serão posteriormente preenchidos com os cromos."
      ],
      "metadata": {
        "id": "O28nay80IPxw"
      }
    },
    {
      "cell_type": "code",
      "source": [
        "# Álbum vazio\n",
        "\n",
        "album = np.zeros(n_album)\n",
        "\n",
        "album"
      ],
      "metadata": {
        "colab": {
          "base_uri": "https://localhost:8080/"
        },
        "id": "ljShpJtErEy3",
        "outputId": "552c1005-a2e0-4d27-cada-a5dcb8eb31e8"
      },
      "execution_count": 3,
      "outputs": [
        {
          "output_type": "execute_result",
          "data": {
            "text/plain": [
              "array([0., 0., 0., 0., 0., 0., 0., 0., 0., 0., 0., 0., 0., 0., 0., 0., 0.,\n",
              "       0., 0., 0., 0., 0., 0., 0., 0., 0., 0., 0., 0., 0., 0., 0., 0., 0.,\n",
              "       0., 0., 0., 0., 0., 0., 0., 0., 0., 0., 0., 0., 0., 0., 0., 0., 0.,\n",
              "       0., 0., 0., 0., 0., 0., 0., 0., 0., 0., 0., 0., 0., 0., 0., 0., 0.,\n",
              "       0., 0., 0., 0., 0., 0., 0., 0., 0., 0., 0., 0., 0., 0., 0., 0., 0.,\n",
              "       0., 0., 0., 0., 0., 0., 0., 0., 0., 0., 0., 0., 0., 0., 0., 0., 0.,\n",
              "       0., 0., 0., 0., 0., 0., 0., 0., 0., 0., 0., 0., 0., 0., 0., 0., 0.,\n",
              "       0., 0., 0., 0., 0., 0., 0., 0., 0., 0., 0., 0., 0., 0., 0., 0., 0.,\n",
              "       0., 0., 0., 0., 0., 0., 0., 0., 0., 0., 0., 0., 0., 0., 0., 0., 0.,\n",
              "       0., 0., 0., 0., 0., 0., 0., 0., 0., 0., 0., 0., 0., 0., 0., 0., 0.,\n",
              "       0., 0., 0., 0., 0., 0., 0., 0., 0., 0., 0., 0., 0., 0., 0., 0., 0.,\n",
              "       0., 0., 0., 0., 0., 0., 0., 0., 0., 0., 0., 0., 0., 0., 0., 0., 0.,\n",
              "       0., 0., 0., 0., 0., 0., 0., 0.])"
            ]
          },
          "metadata": {},
          "execution_count": 3
        }
      ]
    },
    {
      "cell_type": "markdown",
      "source": [
        "Agora vamos simular a compra de um pacote de figurinhas. Para isso, vamos utilizar as funções np.arange e np.random.choice.\n",
        "\n",
        "A função np.arange cria uma sequência de valores com início e fim determinados. A nossa sequência vai representar as 212 posições possíveis para as figurinhas. É interessante observar que a sequência começa com um 0 e termina na posição n - 1.\n",
        "\n",
        "Já a função np.random.choice gera uma amostra aleatória a partir de um vetor, com um determinado tamanho. Aqui, vamos gerar uma amostra de tamanho 4 a partir da quantidade de figurinhas do álbum para representar os cromos de um pacotinho. Uma observação importante é que, da forma que foi especificada, a função pode gerar amostras com valores repetidos, representando para nós figurinhas repetidas."
      ],
      "metadata": {
        "id": "cFYo7Li0LiUn"
      }
    },
    {
      "cell_type": "code",
      "source": [
        "# Comprando um pacote com 4 figurinhas\n",
        "\n",
        "#np.arange(0, n_album)\n",
        "\n",
        "pacotinho = np.random.choice(np.arange(0, n_album) , size = 4)\n",
        "\n",
        "pacotinho"
      ],
      "metadata": {
        "colab": {
          "base_uri": "https://localhost:8080/"
        },
        "id": "5EhsGrcsrqGL",
        "outputId": "0d1da815-da2d-4452-9d98-5731310ffaea"
      },
      "execution_count": 4,
      "outputs": [
        {
          "output_type": "execute_result",
          "data": {
            "text/plain": [
              "array([198, 210,   7, 138])"
            ]
          },
          "metadata": {},
          "execution_count": 4
        }
      ]
    },
    {
      "cell_type": "markdown",
      "source": [
        "O que faremos agora é simular a colagem das figurinhas sorteadas, preenchendo aos poucos os espaços vazios do álbum. O que a função abaixo irá fazer é adicionar o valor 1 nas posições correspondentes aos números sorteados na amostra aleatória dos pacotinhos."
      ],
      "metadata": {
        "id": "zRIb13t1z1Oe"
      }
    },
    {
      "cell_type": "code",
      "source": [
        "# Colando figurinhas no álbum\n",
        "\n",
        "# Lembrando que as duas funções abaixo geram os mesmos resultados:\n",
        "\n",
        "# album[pacotinho[0]] = album[pacotinho[0]] + 1  \n",
        "# ou \n",
        "# album[pacotinho[0]] += 1\n",
        "\n",
        "# O que o operador += faz é somar um valor ao próprio objeto que está à sua esquerda\n",
        "\n",
        "album[pacotinho[0]] += 1\n",
        "album[pacotinho[1]] += 1\n",
        "album[pacotinho[2]] += 1\n",
        "album[pacotinho[3]] += 1\n",
        "\n",
        "album"
      ],
      "metadata": {
        "colab": {
          "base_uri": "https://localhost:8080/"
        },
        "id": "P4jkYBtvyXy5",
        "outputId": "51c6c902-2c45-481f-b72e-5a24ee93d510"
      },
      "execution_count": 5,
      "outputs": [
        {
          "output_type": "execute_result",
          "data": {
            "text/plain": [
              "array([0., 0., 0., 0., 0., 0., 0., 1., 0., 0., 0., 0., 0., 0., 0., 0., 0.,\n",
              "       0., 0., 0., 0., 0., 0., 0., 0., 0., 0., 0., 0., 0., 0., 0., 0., 0.,\n",
              "       0., 0., 0., 0., 0., 0., 0., 0., 0., 0., 0., 0., 0., 0., 0., 0., 0.,\n",
              "       0., 0., 0., 0., 0., 0., 0., 0., 0., 0., 0., 0., 0., 0., 0., 0., 0.,\n",
              "       0., 0., 0., 0., 0., 0., 0., 0., 0., 0., 0., 0., 0., 0., 0., 0., 0.,\n",
              "       0., 0., 0., 0., 0., 0., 0., 0., 0., 0., 0., 0., 0., 0., 0., 0., 0.,\n",
              "       0., 0., 0., 0., 0., 0., 0., 0., 0., 0., 0., 0., 0., 0., 0., 0., 0.,\n",
              "       0., 0., 0., 0., 0., 0., 0., 0., 0., 0., 0., 0., 0., 0., 0., 0., 0.,\n",
              "       0., 0., 1., 0., 0., 0., 0., 0., 0., 0., 0., 0., 0., 0., 0., 0., 0.,\n",
              "       0., 0., 0., 0., 0., 0., 0., 0., 0., 0., 0., 0., 0., 0., 0., 0., 0.,\n",
              "       0., 0., 0., 0., 0., 0., 0., 0., 0., 0., 0., 0., 0., 0., 0., 0., 0.,\n",
              "       0., 0., 0., 0., 0., 0., 0., 0., 0., 0., 0., 1., 0., 0., 0., 0., 0.,\n",
              "       0., 0., 0., 0., 0., 0., 1., 0.])"
            ]
          },
          "metadata": {},
          "execution_count": 5
        }
      ]
    },
    {
      "cell_type": "markdown",
      "source": [
        "O que podemos fazer agora é utilizar algum comando para verificar se todas as posições (espaços vazios do álbum) foram preenchidas. Queremos saber, então, se cada posição do álbum é maior ou igual a 1. Se utilizarmos album >= 1 , teremos uma análise elemento a elemento do vetor. Podemos, entretanto, utilizar a função np.all que mostrará se todos os elementos do vetor possum a mesma propriedade lógica desejada."
      ],
      "metadata": {
        "id": "a8U4Csda7Z41"
      }
    },
    {
      "cell_type": "code",
      "source": [
        "# Temos todas as figurinhas?\n",
        "\n",
        "np.all(album >= 1) \n",
        "\n",
        "# A função acima retornará True quando o álbum estiver completo. \n",
        "# Também podemos utilizar not np.all(album >= 1) , que retornará False quando estiver completo."
      ],
      "metadata": {
        "colab": {
          "base_uri": "https://localhost:8080/"
        },
        "id": "_P-_yLk0aeYa",
        "outputId": "0d879de5-9a08-4965-c024-b36744015add"
      },
      "execution_count": 6,
      "outputs": [
        {
          "output_type": "execute_result",
          "data": {
            "text/plain": [
              "False"
            ]
          },
          "metadata": {},
          "execution_count": 6
        }
      ]
    },
    {
      "cell_type": "markdown",
      "source": [
        "Agora que entendemos como o nosso algoritmo funciona em linguagem de programação, podemos colocar todo esse passo a passo em um rápido programinha para executar os resultados que procuramos. Para isso, utilizaremos os iteradores while e for e o condicional if.\n",
        "\n",
        "O que o programa irá fazer é, basicamente, \"comprar\" um álbum de figurinhas vazio, comprar um pacote com 4 cromos aleatórios, colar as 4 figurinhas no álbum e verificar se, então, todos os espaços vazios foram preenchidos. Caso o álbum não esteja completo, ele repetirá o procedimento da compra de pacotinhos até que não haja mais espaços vazios. Quando isso acontecer, o programa será finalizado."
      ],
      "metadata": {
        "id": "UdhNmti3_r76"
      }
    },
    {
      "cell_type": "code",
      "source": [
        "# Colocando tudo o que foi visto até agora em um programa\n",
        "\n",
        "album = np.zeros(n_album)\n",
        "pacotes = 0   # criando o objeto pacotes\n",
        "\n",
        "while True:\n",
        "  pacotinho = np.random.choice(np.arange(0, n_album) , size = 4)\n",
        "  pacotes += 1 \n",
        "\n",
        "  for i in [0, 1, 2, 3]:  # também podemos fazer este passo com for i in range(4) - assim vai de 0 a 3 como se fosse um np.arange\n",
        "    album[pacotinho[i]] += 1\n",
        "    \n",
        "  if np.all(album >= 1):\n",
        "    break  \n",
        "\n",
        "print(album, pacotes)  # para visualizar o álbum e a quantidade de pacotinhos necessários para preencher todo o álbum\n",
        "\n",
        "# Também podemos encontrar o valor desembolsado para preencher todo o álbum. \n",
        "# Basta somarmos o custo do álbum puro com o custo de cada pacote multiplicado pela quantidade de pacotinhos comprados.\n",
        "\n",
        "print(preco_album + preco_pacote*pacotes) # custo final"
      ],
      "metadata": {
        "colab": {
          "base_uri": "https://localhost:8080/"
        },
        "id": "BjMTH61Magxb",
        "outputId": "8ce12c10-5cae-4783-878f-0b7df5f7c7fe"
      },
      "execution_count": 7,
      "outputs": [
        {
          "output_type": "stream",
          "name": "stdout",
          "text": [
            "[ 4.  5.  5.  3.  1.  8.  8.  4.  4.  9.  5.  6.  6.  7.  6.  7.  7.  3.\n",
            "  9.  4. 11.  5.  5. 11.  5.  5.  3.  3.  9.  6.  9.  6.  9.  3.  4.  8.\n",
            "  5.  8.  3.  3.  1.  7.  5.  9.  7.  6.  6. 12.  2.  2.  2.  6.  7.  5.\n",
            "  3.  9. 12.  4.  6.  8.  9.  5.  7.  6.  4.  8.  4.  6.  3.  2.  4.  6.\n",
            "  6.  6.  2. 12.  7.  6.  6.  6.  7.  5.  7. 10.  7.  2.  6.  2.  6.  7.\n",
            "  3.  5.  6.  6.  8.  1.  7.  3.  7.  6.  2.  5.  5.  7.  4. 11.  8. 11.\n",
            "  3.  3.  6.  8.  8.  9.  7.  5.  5.  7.  3.  7.  5.  6.  4.  1.  4.  2.\n",
            "  8.  7.  6.  1.  5.  7.  6.  6.  4.  6.  3.  1. 10.  2.  3.  4.  5. 10.\n",
            "  6.  9.  7.  6.  1.  6.  8.  5.  9.  8.  5. 10.  2.  4. 10.  3.  6.  2.\n",
            "  3.  6.  7.  9.  4.  9.  7.  3.  5.  7.  6.  6.  9.  5.  9.  2.  6. 10.\n",
            "  7.  3.  2.  6.  5.  6.  6.  5.  5.  8.  5.  9. 10.  5.  3.  5.  9. 10.\n",
            "  7.  5.  9.  1.  6.  7.  7.  3.  6.  5.  5. 11.  2.  8.] 307\n",
            "1238\n"
          ]
        }
      ]
    },
    {
      "cell_type": "markdown",
      "source": [
        "Em casos como este, nos quais precisamos repetir os mesmos procedimentos por muitas vezes, podemos criar uma função que englobe todos essas etapas, reduzindo o trabalho.\n",
        "\n",
        "Façamos, então, uma função para nossa simulação, com os mesmos passos utilizados anteriormente:"
      ],
      "metadata": {
        "id": "76lWoKizHaeR"
      }
    },
    {
      "cell_type": "code",
      "source": [
        "# Construindo a função\n",
        "\n",
        "def SimulaAlbum():  # sem parâmetro, já que a função será utilizada somente para executar o código\n",
        "\n",
        "    n_album = 212\n",
        "    preco_pacote = 4\n",
        "    cromos_por_pacote = 4\n",
        "    preco_album = 10\n",
        "\n",
        "    album = np.zeros(n_album)\n",
        "    pacotes = 0\n",
        "\n",
        "    while True:\n",
        "      pacotinho = np.random.choice(np.arange(0, n_album) , size = 4)\n",
        "      pacotes += 1 \n",
        "\n",
        "      for i in [0, 1, 2, 3]:\n",
        "        album[pacotinho[i]] += 1\n",
        "        \n",
        "      if np.all(album >= 1):\n",
        "        break  \n",
        "\n",
        "    custo = preco_album + preco_pacote*pacotes\n",
        "\n",
        "    return custo "
      ],
      "metadata": {
        "id": "-gpXAMcfeE0B"
      },
      "execution_count": 8,
      "outputs": []
    },
    {
      "cell_type": "markdown",
      "source": [
        "Como pode ser observado no código acima, a função SimulaAlbum irá retornar o custo total ao se comprar um álbum de figurinhas e o preencher completamente, sob as condições dadas."
      ],
      "metadata": {
        "id": "ruuUZg6xbcQa"
      }
    },
    {
      "cell_type": "code",
      "source": [
        "# Resultados da função\n",
        "\n",
        "SimulaAlbum()"
      ],
      "metadata": {
        "colab": {
          "base_uri": "https://localhost:8080/"
        },
        "id": "IsgG2JUegSPq",
        "outputId": "137aff6c-722b-4fd9-9c49-a64bbfaed46e"
      },
      "execution_count": 9,
      "outputs": [
        {
          "output_type": "execute_result",
          "data": {
            "text/plain": [
              "1414"
            ]
          },
          "metadata": {},
          "execution_count": 9
        }
      ]
    },
    {
      "cell_type": "markdown",
      "source": [
        "Agora que entendemos e desenhamos todo o procedimento, podemos, finalmente, responder às perguntas feitas no início do problema:\n",
        "\n",
        "---"
      ],
      "metadata": {
        "id": "klQ1LT-AceIq"
      }
    },
    {
      "cell_type": "markdown",
      "source": [
        "### 1. Qual o valor médio investido para completar o álbum nessas condições?"
      ],
      "metadata": {
        "id": "FH7VNtZXjMZT"
      }
    },
    {
      "cell_type": "markdown",
      "source": [
        "Para responder essa pergunta, é importante observar que, ao fazer a operação acima, teremos resultados variando a cada execução, já que envolve a geração de amostras aleatórias. Como fazemos, então, para obter um valor médio consistente?\n",
        "\n",
        "Para isso, podemos replicar o nosso experimento algumas vezes e obter o resultado médio através de uma simulação. \n",
        "\n",
        "O que faremos, então, é repetir a execução da função SimulaAlbum por uma boa quantidade de vezes e obter um valor médio entre os resultados gerados. Aqui, executaremos a função 1000 vezes, guardando cada resultado em uma lista, e aplicaremos o método mean() para encontrar a média final. "
      ],
      "metadata": {
        "id": "nxAEUJ0hbG6X"
      }
    },
    {
      "cell_type": "code",
      "source": [
        "S = 1000  # quantidade de simulações que serão feitas\n",
        "\n",
        "resultados = []  # criando a lista que guardará cada resultado\n",
        "\n",
        "for i in range(S): \n",
        "  pessoa = SimulaAlbum()\n",
        "  resultados.append(pessoa)  # guardando os resultados\n",
        "\n",
        "  # Se for do nosso interesse, podemos acompanhar o processamento dos cálculos com as funções abaixo:\n",
        "\n",
        "  #if i % 100 == 0: \n",
        "   #print (i)\n",
        "\n",
        "# Guardando todos os resultados em um único vetor\n",
        "\n",
        "sim = np.array(resultados)\n",
        "\n",
        "# Visualizando a média do custo\n",
        "\n",
        "print(np.array(resultados).mean())  # ou print(sim.mean())\n",
        "\n"
      ],
      "metadata": {
        "colab": {
          "base_uri": "https://localhost:8080/"
        },
        "id": "f3jXPwWSe_6D",
        "outputId": "3567822f-98a1-4b6d-848a-3dbce993f97a"
      },
      "execution_count": 12,
      "outputs": [
        {
          "output_type": "stream",
          "name": "stdout",
          "text": [
            "1280.012\n"
          ]
        }
      ]
    },
    {
      "cell_type": "markdown",
      "source": [
        "Encontramos, então, que o valor médio investido para completar o álbum nessas condições é de R$ 1.280,01."
      ],
      "metadata": {
        "id": "sydFO8L6f4jt"
      }
    },
    {
      "cell_type": "markdown",
      "source": [
        "### 2. Quantos pacotes são necessários comprar, em média, para completar o álbum?"
      ],
      "metadata": {
        "id": "AiIjwMcIjZjZ"
      }
    },
    {
      "cell_type": "markdown",
      "source": [
        "Para responder essa questão, basta fazer o procedimento inverso do cálculo para o custo final. Ou seja, pegamos o custo médio total, subtraímos o custo do álbum puro, e dividimos o resultado pelo preço do pacote unitário."
      ],
      "metadata": {
        "id": "NOU5OjxugL2H"
      }
    },
    {
      "cell_type": "code",
      "source": [
        "# Número de pacotinhos\n",
        "\n",
        "(np.array(resultados).mean() - preco_album) / preco_pacote"
      ],
      "metadata": {
        "colab": {
          "base_uri": "https://localhost:8080/"
        },
        "id": "4Vk3bvZCiaC6",
        "outputId": "fe3fb5cb-c628-4c04-9c42-702b78a5c685"
      },
      "execution_count": 13,
      "outputs": [
        {
          "output_type": "execute_result",
          "data": {
            "text/plain": [
              "317.503"
            ]
          },
          "metadata": {},
          "execution_count": 13
        }
      ]
    },
    {
      "cell_type": "markdown",
      "source": [
        "Encontramos, então, que é necessário comprar, em média, 317 pacotes de figurinhas para completar o álbum."
      ],
      "metadata": {
        "id": "A7zsHwczgrgC"
      }
    },
    {
      "cell_type": "markdown",
      "source": [
        "### 3. Qual é a distribuição empírica do valor investido para completar o álbum?"
      ],
      "metadata": {
        "id": "n7xzJ5BRjkuO"
      }
    },
    {
      "cell_type": "markdown",
      "source": [
        "Para conhecer a distribuição empírica do valor investido para completar o álbum, podemos gerar um gráfico da densidade em relação ao valor gasto.\n",
        "\n",
        "Para gerar o gráfico, vamos utilizar as funções da biblioteca matplotlib.pyplot. Faremos um histograma, selecionando density = True, para que seja colocada a proporção ao invés da simples contagem. "
      ],
      "metadata": {
        "id": "Pp2yGd8YIdAz"
      }
    },
    {
      "cell_type": "code",
      "source": [
        "# Distribuição da probabilidade relacionada aos custos de se completar o álbum\n",
        "\n",
        "plt.hist(sim, bins = 20, density = True, color = 'royalblue', edgecolor = 'black')\n",
        "plt.title('Distribuição Empírica do Valor Gasto para Completar o Álbum')\n",
        "plt.show()"
      ],
      "metadata": {
        "colab": {
          "base_uri": "https://localhost:8080/",
          "height": 283
        },
        "id": "jv9TRJ1MjoBn",
        "outputId": "326a829f-119c-4c1d-af75-358767e58e12"
      },
      "execution_count": 14,
      "outputs": [
        {
          "output_type": "display_data",
          "data": {
            "image/png": "[encoded data removed]",
            "text/plain": [
              "<Figure size 432x288 with 1 Axes>"
            ]
          },
          "metadata": {
            "needs_background": "light"
          }
        }
      ]
    },
    {
      "cell_type": "markdown",
      "source": [
        "### 4. Qual a probabilidade de se gastar menos que R$ 1.500,00 para completar o álbum?"
      ],
      "metadata": {
        "id": "C7Kfa-OglR0A"
      }
    },
    {
      "cell_type": "markdown",
      "source": [
        "Para saber a resposta desta questão, basta ver a frequência com que aparecem os valores abaixo de 1500.\n",
        "\n",
        "Considerando que sim = np.array(resultados), ou seja, um vetor com todos os resultados de custo total gerados, podemos fazer uma comparação em relação aos valores menores que 1500. O comando np.array(sim) < 1500 pode retornar True (igual a 1 em termos númericos) ou False (igual a 0). Sendo assim, a soma dessa operação é a quantidade de valores procurada e a média é a proporção de verdadeiros.\n",
        "\n",
        "É interessante notar que usaremos o método format() nesse trecho do código. O que este método faz é substituir o espaço entre chaves, em uma string, pelos argumentos do format."
      ],
      "metadata": {
        "id": "VMggpuwASZaR"
      }
    },
    {
      "cell_type": "code",
      "source": [
        "# Probabilidade - proporção de True's\n",
        "\n",
        "prob1 = sum(np.array(sim) < 1500) / S\n",
        "\n",
        "print('A probabilidade de se gastar menos de 1500 é {:.2f}%'.format(prob1*100))"
      ],
      "metadata": {
        "colab": {
          "base_uri": "https://localhost:8080/"
        },
        "id": "XYp9PBGUlxjJ",
        "outputId": "f737077b-2e42-4173-8b64-a79727bb5e46"
      },
      "execution_count": 15,
      "outputs": [
        {
          "output_type": "stream",
          "name": "stdout",
          "text": [
            "A probabilidade de se gastar menos de 1500 é 82.90%\n"
          ]
        }
      ]
    },
    {
      "cell_type": "markdown",
      "source": [
        "Observamos, então, que a probabilidade procurada é de 82,90%."
      ],
      "metadata": {
        "id": "FYnhFvcVb7zL"
      }
    },
    {
      "cell_type": "markdown",
      "source": [
        "### 5. Qual a probabilidade de se gastar mais do que a média para completar o álbum?\n"
      ],
      "metadata": {
        "id": "oiUK8mvDlR_Z"
      }
    },
    {
      "cell_type": "markdown",
      "source": [
        "Para encontrar a resposta dessa pergunta, faremos algo muito semelhante à questão acima. A diferença é que aqui, ao invés de analisarmos np.array(sim) < 1500, faremos np.array(sim) maior que a média."
      ],
      "metadata": {
        "id": "mvVH_Ic7cWbz"
      }
    },
    {
      "cell_type": "code",
      "source": [
        "prob2 = sum(np.array(sim) > np.array(sim).mean()) / S\n",
        "\n",
        "print('A probabilidade de se gastar mais do que a média é {:.2f}%'.format(prob2*100))"
      ],
      "metadata": {
        "colab": {
          "base_uri": "https://localhost:8080/"
        },
        "id": "q-T0Swk3mTBx",
        "outputId": "94b9ec16-3fdd-4156-a7e3-51f9d916b3f6"
      },
      "execution_count": 18,
      "outputs": [
        {
          "output_type": "stream",
          "name": "stdout",
          "text": [
            "A probabilidade de se gastar mais do que a média é 43.40%\n"
          ]
        }
      ]
    },
    {
      "cell_type": "markdown",
      "source": [
        "Assim, encontramos que a segunda probabilidade está no valor de 43,40%."
      ],
      "metadata": {
        "id": "TOCdY5vVdG03"
      }
    },
    {
      "cell_type": "markdown",
      "source": [
        "### 6. Qual é um intervalo de confiança de 95% para o gasto ao se completar o álbum?\n"
      ],
      "metadata": {
        "id": "5yVO1pEwlSC9"
      }
    },
    {
      "cell_type": "markdown",
      "source": [
        "Para descobrir nosso intervalo de confiança, vamos trabalhar com a ideia de quantil. Pensando no histograma feito anteriormente, podemos imaginar uma divisão nos resultados entre os 2,5% do canto esquerdo, os 2,5% do canto direito e os 95% do meio que buscamos. Através da função np.quantile, podemos obter os valores de quantil do vetor sim nos pontos 0.025 e 0.975 (extremos dos 95% no centro dos resultados)."
      ],
      "metadata": {
        "id": "XXX6u-HYui53"
      }
    },
    {
      "cell_type": "code",
      "source": [
        "# Intervalo de confiança via quantil\n",
        "\n",
        "qts = np.quantile(sim, [0.025, 0.975])\n",
        "\n",
        "qts"
      ],
      "metadata": {
        "colab": {
          "base_uri": "https://localhost:8080/"
        },
        "id": "rsKhiBvDokCg",
        "outputId": "7da0bc47-1ac9-47bf-be36-0e2d7139e107"
      },
      "execution_count": 19,
      "outputs": [
        {
          "output_type": "execute_result",
          "data": {
            "text/plain": [
              "array([ 874. , 1938.1])"
            ]
          },
          "metadata": {},
          "execution_count": 19
        }
      ]
    },
    {
      "cell_type": "markdown",
      "source": [
        "Assim, podemos afirmar, com 95% de confiança, que o gasto a se ter para completar o álbum está entre R\\$ 874,00 e R\\$ 1.938,10. Percebemos, então, que esses resultados possuem uma grande variabilidade."
      ],
      "metadata": {
        "id": "vCkrdDxfyEP5"
      }
    },
    {
      "cell_type": "markdown",
      "source": [
        "### 7. Qual o valor médio gasto caso se esteja completando o álbum com mais um amigo?"
      ],
      "metadata": {
        "id": "8dPibw12lSGJ"
      }
    },
    {
      "cell_type": "markdown",
      "source": [
        "Para responder essa pergunta, seguiremos a mesma lógica das outras. A diferença é que, agora, para completar o álbum com dois amigos, por exemplo, é necessário ter duas figurinhas para cada posição. O que faremos, então, é acrescentar um parâmetro para o número de amigos e adaptar a função para essa quantidade maior de figurinhas necessárias. Assim, precisamos possuir, no mínimo, uma quantidade de figurinhas igual ao número de amigos para cada espaço em branco. Além disso, o custo será dividido pela quantidade de pessoas."
      ],
      "metadata": {
        "id": "jovUTaL_yZ9s"
      }
    },
    {
      "cell_type": "code",
      "source": [
        "# Fazendo os ajustes na função\n",
        "\n",
        "def SimulaAlbum(n_amigos):  # incluímos um parâmetro para o número de amigos\n",
        "\n",
        "    n_album = 212\n",
        "    preco_pacote = 4\n",
        "    cromos_por_pacote = 4\n",
        "    preco_album = 10\n",
        "\n",
        "    album = np.zeros(n_album)\n",
        "    pacotes = 0\n",
        "\n",
        "    while True:\n",
        "      pacotinho = np.random.choice(np.arange(0, n_album) , size = 4)\n",
        "      pacotes += 1 \n",
        "\n",
        "      for i in [0, 1, 2, 3]:\n",
        "        album[pacotinho[i]] += 1\n",
        "        \n",
        "      if np.all(album >= n_amigos):  # no mínimo, uma figurinha de cada para cada amigo\n",
        "        break  \n",
        "\n",
        "    custo = pacotes*preco_pacote + preco_album\n",
        "\n",
        "    return custo / n_amigos  # agora, o custo é dividido pelo número total de amigos"
      ],
      "metadata": {
        "id": "5J491dQMqRdZ"
      },
      "execution_count": 20,
      "outputs": []
    },
    {
      "cell_type": "markdown",
      "source": [
        "Calculando uma vez, podemos encontrar um custo como o seguinte:"
      ],
      "metadata": {
        "id": "cLcA-Suv0K09"
      }
    },
    {
      "cell_type": "code",
      "source": [
        "SimulaAlbum(2)"
      ],
      "metadata": {
        "colab": {
          "base_uri": "https://localhost:8080/"
        },
        "id": "aWVcAysarTQg",
        "outputId": "fe83369f-8761-4063-fda1-d7ed6f3f38d7"
      },
      "execution_count": 21,
      "outputs": [
        {
          "output_type": "execute_result",
          "data": {
            "text/plain": [
              "751.0"
            ]
          },
          "metadata": {},
          "execution_count": 21
        }
      ]
    },
    {
      "cell_type": "markdown",
      "source": [
        "Porém, para termos resultados mais consistentes, é interessante fazermos uma simulação para um número grande de amostras. Fazendo com uma amostra de 1.000 cálculos, chegamos ao seguinte resultado:"
      ],
      "metadata": {
        "id": "fgm02vtM0R1f"
      }
    },
    {
      "cell_type": "code",
      "source": [
        "S = 1000 \n",
        "resultados = []\n",
        "\n",
        "for i in range(S): \n",
        "  pessoa = SimulaAlbum(2)  # simulando com 2 pessoas\n",
        "  resultados.append(pessoa)\n",
        "\n",
        "sim = np.array(resultados)\n",
        "sim.mean()"
      ],
      "metadata": {
        "colab": {
          "base_uri": "https://localhost:8080/"
        },
        "id": "jOwR2-Cjqkj3",
        "outputId": "fd703c26-40ad-4b59-8bb0-37248f183cf6"
      },
      "execution_count": 22,
      "outputs": [
        {
          "output_type": "execute_result",
          "data": {
            "text/plain": [
              "867.396"
            ]
          },
          "metadata": {},
          "execution_count": 22
        }
      ]
    },
    {
      "cell_type": "markdown",
      "source": [
        "Observamos, então, que, com dois amigos, teremos um custo total de R$ 867,40 para cada. Podemos calcular, também, o desconto que cada um terá em relação ao outro gasto (sem a adição de amigos)."
      ],
      "metadata": {
        "id": "sFpxVwtt0oqk"
      }
    },
    {
      "cell_type": "code",
      "source": [
        "# Desconto em relação ao outro gasto\n",
        "\n",
        "1 - sim.mean() / 1280   # esse último é o valor do primeiro gasto\n"
      ],
      "metadata": {
        "colab": {
          "base_uri": "https://localhost:8080/"
        },
        "id": "mUaHSWVFsMe2",
        "outputId": "787de5d4-f578-47dc-d717-d7e271737b05"
      },
      "execution_count": 24,
      "outputs": [
        {
          "output_type": "execute_result",
          "data": {
            "text/plain": [
              "0.32234687500000003"
            ]
          },
          "metadata": {},
          "execution_count": 24
        }
      ]
    },
    {
      "cell_type": "markdown",
      "source": [
        "Temos, assim, a proporção de gastos, representando uma redução de 32% no custo."
      ],
      "metadata": {
        "id": "EHxWirKI1NOW"
      }
    },
    {
      "cell_type": "markdown",
      "source": [
        "### 8. Qual o valor médio gasto caso se esteja completando o álbum com mais dois amigos?"
      ],
      "metadata": {
        "id": "sMIBrs1oltjr"
      }
    },
    {
      "cell_type": "markdown",
      "source": [
        "Aqui, basta mudarmos o valor no nosso parâmetro de 2 para 3 (quantidade de amigos no total)."
      ],
      "metadata": {
        "id": "AlahGWSD1fm4"
      }
    },
    {
      "cell_type": "code",
      "source": [
        "S = 1000 \n",
        "resultados = []\n",
        "\n",
        "for i in range(S): \n",
        "  pessoa = SimulaAlbum(3)\n",
        "  resultados.append(pessoa)\n",
        "\n",
        "sim = np.array(resultados)\n",
        "sim.mean()"
      ],
      "metadata": {
        "colab": {
          "base_uri": "https://localhost:8080/"
        },
        "id": "oXyA6QUTslCZ",
        "outputId": "26bde687-f5cb-4430-afb3-d0e41b366a3e"
      },
      "execution_count": 25,
      "outputs": [
        {
          "output_type": "execute_result",
          "data": {
            "text/plain": [
              "711.816"
            ]
          },
          "metadata": {},
          "execution_count": 25
        }
      ]
    },
    {
      "cell_type": "markdown",
      "source": [
        "Encontramos, então, que o custo individual é de R$ 711,82 se 3 amigos estiverem completando álbuns juntos. E podemos, como na questão anterior, calcular a taxa de desconto neste caso:"
      ],
      "metadata": {
        "id": "1zC9OI2M1tF5"
      }
    },
    {
      "cell_type": "code",
      "source": [
        "# Desconto para 3 amigos\n",
        "\n",
        "1 - sim.mean() / 1280 "
      ],
      "metadata": {
        "colab": {
          "base_uri": "https://localhost:8080/"
        },
        "id": "7vgH0H_-szNc",
        "outputId": "83a7cbe6-49c7-4c25-9a76-068b6ee5486f"
      },
      "execution_count": 26,
      "outputs": [
        {
          "output_type": "execute_result",
          "data": {
            "text/plain": [
              "0.44389375"
            ]
          },
          "metadata": {},
          "execution_count": 26
        }
      ]
    },
    {
      "cell_type": "markdown",
      "source": [
        "Aqui, chegamos a 44% de redução de custo."
      ],
      "metadata": {
        "id": "JThSSfy-2EPy"
      }
    },
    {
      "cell_type": "markdown",
      "source": [
        "#### Agora que respondemos às questões propostas, podemos pensar em outras para avançar com os estudos. Alguns exemplos sugeridos são o de calcular o custo individual para uma situação em que se estivesse tentando preencher álbuns em grupo e o de analisar quantas vezes, em média, saiu a figurinha mais repetida. Deixamos essas possibilidades para o leitor :)"
      ],
      "metadata": {
        "id": "QA_JL02yuVqu"
      }
    }
  ]
}